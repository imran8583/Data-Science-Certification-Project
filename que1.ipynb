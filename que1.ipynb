{
 "cells": [
  {
   "attachments": {},
   "cell_type": "markdown",
   "metadata": {},
   "source": [
    "**Question**: You work in a news agency & are responsible for identifying the most important topic for writing articles by your content team. Develop a Jupyter Notebook which on executing every time shows top 10 Twitter trending topics in India in the last 24 hours.\n",
    "1. Hints: Connecting with Twitter API. Bringing Dashboard-like behaviour in Jupyter notebook.\n",
    "2. Please note: Visualisation is mandatory. You will receive 0 marks if you do not add visualisation"
   ]
  },
  {
   "attachments": {},
   "cell_type": "markdown",
   "metadata": {},
   "source": [
    "Import Libraries"
   ]
  },
  {
   "cell_type": "code",
   "execution_count": 28,
   "metadata": {},
   "outputs": [],
   "source": [
    "import tweepy\n",
    "import matplotlib.pyplot as plt"
   ]
  },
  {
   "cell_type": "code",
   "execution_count": 30,
   "metadata": {},
   "outputs": [],
   "source": [
    "CONSUMER_KEY = 'm5eWuBLY7E3UXoFpTCUIGx6f6'\n",
    "CONSUMER_SECRET = 'AsxKyhssdVE3gQvBqnbyji8q9ABKs5P26yHUOMk92YJO1qaRKw'\n",
    "OAUTH_TOKEN = '2285494401-g25JmBopSTj1DMZJd4R9J2k9vgkX75IsB5blbSH'\n",
    "OAUTH_TOKEN_SECRET = 'LksXNzz7o9wAh8IWzYz9j9ZPG9LVeViIEFCb0x5d1w5ay'"
   ]
  },
  {
   "cell_type": "code",
   "execution_count": 31,
   "metadata": {},
   "outputs": [],
   "source": [
    "auth = tweepy.OAuthHandler(CONSUMER_KEY, CONSUMER_SECRET)\n",
    "auth.set_access_token(OAUTH_TOKEN, OAUTH_TOKEN_SECRET)\n",
    "api = tweepy.API(auth)"
   ]
  },
  {
   "cell_type": "code",
   "execution_count": 32,
   "metadata": {},
   "outputs": [],
   "source": [
    "INDIA_WOE_ID = 23424848\n",
    "\n",
    "india_trends = api.get_place_trends(id=INDIA_WOE_ID)"
   ]
  },
  {
   "cell_type": "code",
   "execution_count": 33,
   "metadata": {},
   "outputs": [
    {
     "name": "stdout",
     "output_type": "stream",
     "text": [
      "[{'trends': [{'name': '#Bihar', 'url': 'http://twitter.com/search?q=%23Bihar', 'promoted_content': None, 'query': '%23Bihar', 'tweet_volume': 12653}, {'name': '#SatyaPremKiKatha', 'url': 'http://twitter.com/search?q=%23SatyaPremKiKatha', 'promoted_content': None, 'query': '%23SatyaPremKiKatha', 'tweet_volume': None}, {'name': 'गंगा नदी', 'url': 'http://twitter.com/search?q=%22%E0%A4%97%E0%A4%82%E0%A4%97%E0%A4%BE+%E0%A4%A8%E0%A4%A6%E0%A5%80%22', 'promoted_content': None, 'query': '%22%E0%A4%97%E0%A4%82%E0%A4%97%E0%A4%BE+%E0%A4%A8%E0%A4%A6%E0%A5%80%22', 'tweet_volume': 12657}, {'name': 'नीतीश कुमार', 'url': 'http://twitter.com/search?q=%22%E0%A4%A8%E0%A5%80%E0%A4%A4%E0%A5%80%E0%A4%B6+%E0%A4%95%E0%A5%81%E0%A4%AE%E0%A4%BE%E0%A4%B0%22', 'promoted_content': None, 'query': '%22%E0%A4%A8%E0%A5%80%E0%A4%A4%E0%A5%80%E0%A4%B6+%E0%A4%95%E0%A5%81%E0%A4%AE%E0%A4%BE%E0%A4%B0%22', 'tweet_volume': 22557}, {'name': 'पुल गिर', 'url': 'http://twitter.com/search?q=%22%E0%A4%AA%E0%A5%81%E0%A4%B2+%E0%A4%97%E0%A4%BF%E0%A4%B0%22', 'promoted_content': None, 'query': '%22%E0%A4%AA%E0%A5%81%E0%A4%B2+%E0%A4%97%E0%A4%BF%E0%A4%B0%22', 'tweet_volume': 12820}, {'name': '#BorisBringAriha', 'url': 'http://twitter.com/search?q=%23BorisBringAriha', 'promoted_content': None, 'query': '%23BorisBringAriha', 'tweet_volume': None}, {'name': '#NitishKumar', 'url': 'http://twitter.com/search?q=%23NitishKumar', 'promoted_content': None, 'query': '%23NitishKumar', 'tweet_volume': None}, {'name': '#SpanishGP', 'url': 'http://twitter.com/search?q=%23SpanishGP', 'promoted_content': None, 'query': '%23SpanishGP', 'tweet_volume': 195188}, {'name': 'Sushant Mesmerising Smile', 'url': 'http://twitter.com/search?q=%22Sushant+Mesmerising+Smile%22', 'promoted_content': None, 'query': '%22Sushant+Mesmerising+Smile%22', 'tweet_volume': None}, {'name': 'तेजस्वी यादव', 'url': 'http://twitter.com/search?q=%22%E0%A4%A4%E0%A5%87%E0%A4%9C%E0%A4%B8%E0%A5%8D%E0%A4%B5%E0%A5%80+%E0%A4%AF%E0%A4%BE%E0%A4%A6%E0%A4%B5%22', 'promoted_content': None, 'query': '%22%E0%A4%A4%E0%A5%87%E0%A4%9C%E0%A4%B8%E0%A5%8D%E0%A4%B5%E0%A5%80+%E0%A4%AF%E0%A4%BE%E0%A4%A6%E0%A4%B5%22', 'tweet_volume': None}, {'name': 'jihyo', 'url': 'http://twitter.com/search?q=jihyo', 'promoted_content': None, 'query': 'jihyo', 'tweet_volume': 37188}, {'name': 'PRIYANKIT LUNAR ERA', 'url': 'http://twitter.com/search?q=%22PRIYANKIT+LUNAR+ERA%22', 'promoted_content': None, 'query': '%22PRIYANKIT+LUNAR+ERA%22', 'tweet_volume': 29116}, {'name': 'नीतीश बाबू', 'url': 'http://twitter.com/search?q=%22%E0%A4%A8%E0%A5%80%E0%A4%A4%E0%A5%80%E0%A4%B6+%E0%A4%AC%E0%A4%BE%E0%A4%AC%E0%A5%82%22', 'promoted_content': None, 'query': '%22%E0%A4%A8%E0%A5%80%E0%A4%A4%E0%A5%80%E0%A4%B6+%E0%A4%AC%E0%A4%BE%E0%A4%AC%E0%A5%82%22', 'tweet_volume': None}, {'name': 'Railway Board', 'url': 'http://twitter.com/search?q=%22Railway+Board%22', 'promoted_content': None, 'query': '%22Railway+Board%22', 'tweet_volume': None}, {'name': 'भोपाल गैस', 'url': 'http://twitter.com/search?q=%22%E0%A4%AD%E0%A5%8B%E0%A4%AA%E0%A4%BE%E0%A4%B2+%E0%A4%97%E0%A5%88%E0%A4%B8%22', 'promoted_content': None, 'query': '%22%E0%A4%AD%E0%A5%8B%E0%A4%AA%E0%A4%BE%E0%A4%B2+%E0%A4%97%E0%A5%88%E0%A4%B8%22', 'tweet_volume': None}, {'name': 'NHAI', 'url': 'http://twitter.com/search?q=NHAI', 'promoted_content': None, 'query': 'NHAI', 'tweet_volume': None}, {'name': 'इलियास आज़मी', 'url': 'http://twitter.com/search?q=%22%E0%A4%87%E0%A4%B2%E0%A4%BF%E0%A4%AF%E0%A4%BE%E0%A4%B8+%E0%A4%86%E0%A4%9C%E0%A4%BC%E0%A4%AE%E0%A5%80%22', 'promoted_content': None, 'query': '%22%E0%A4%87%E0%A4%B2%E0%A4%BF%E0%A4%AF%E0%A4%BE%E0%A4%B8+%E0%A4%86%E0%A4%9C%E0%A4%BC%E0%A4%AE%E0%A5%80%22', 'tweet_volume': None}, {'name': 'Lewis', 'url': 'http://twitter.com/search?q=Lewis', 'promoted_content': None, 'query': 'Lewis', 'tweet_volume': 102299}, {'name': 'Most Runs', 'url': 'http://twitter.com/search?q=%22Most+Runs%22', 'promoted_content': None, 'query': '%22Most+Runs%22', 'tweet_volume': None}, {'name': 'Most Wickets', 'url': 'http://twitter.com/search?q=%22Most+Wickets%22', 'promoted_content': None, 'query': '%22Most+Wickets%22', 'tweet_volume': None}, {'name': 'Kartik', 'url': 'http://twitter.com/search?q=Kartik', 'promoted_content': None, 'query': 'Kartik', 'tweet_volume': None}, {'name': 'Shakira', 'url': 'http://twitter.com/search?q=Shakira', 'promoted_content': None, 'query': 'Shakira', 'tweet_volume': 31806}, {'name': 'Anderson', 'url': 'http://twitter.com/search?q=Anderson', 'promoted_content': None, 'query': 'Anderson', 'tweet_volume': 27668}, {'name': 'Benzema', 'url': 'http://twitter.com/search?q=Benzema', 'promoted_content': None, 'query': 'Benzema', 'tweet_volume': 414560}, {'name': 'Kiara', 'url': 'http://twitter.com/search?q=Kiara', 'promoted_content': None, 'query': 'Kiara', 'tweet_volume': 13596}, {'name': 'Ferrari', 'url': 'http://twitter.com/search?q=Ferrari', 'promoted_content': None, 'query': 'Ferrari', 'tweet_volume': 67301}, {'name': 'रेलवे बोर्ड', 'url': 'http://twitter.com/search?q=%22%E0%A4%B0%E0%A5%87%E0%A4%B2%E0%A4%B5%E0%A5%87+%E0%A4%AC%E0%A5%8B%E0%A4%B0%E0%A5%8D%E0%A4%A1%22', 'promoted_content': None, 'query': '%22%E0%A4%B0%E0%A5%87%E0%A4%B2%E0%A4%B5%E0%A5%87+%E0%A4%AC%E0%A5%8B%E0%A4%B0%E0%A5%8D%E0%A4%A1%22', 'tweet_volume': None}, {'name': 'TIE DYE', 'url': 'http://twitter.com/search?q=%22TIE+DYE%22', 'promoted_content': None, 'query': '%22TIE+DYE%22', 'tweet_volume': None}, {'name': 'Havertz', 'url': 'http://twitter.com/search?q=Havertz', 'promoted_content': None, 'query': 'Havertz', 'tweet_volume': 51475}, {'name': 'Islamophobia', 'url': 'http://twitter.com/search?q=Islamophobia', 'promoted_content': None, 'query': 'Islamophobia', 'tweet_volume': None}, {'name': 'Verstappen', 'url': 'http://twitter.com/search?q=Verstappen', 'promoted_content': None, 'query': 'Verstappen', 'tweet_volume': 60126}, {'name': 'Michael Neser', 'url': 'http://twitter.com/search?q=%22Michael+Neser%22', 'promoted_content': None, 'query': '%22Michael+Neser%22', 'tweet_volume': None}, {'name': 'Madrid', 'url': 'http://twitter.com/search?q=Madrid', 'promoted_content': None, 'query': 'Madrid', 'tweet_volume': 582117}, {'name': 'स्टेशन मास्टर', 'url': 'http://twitter.com/search?q=%22%E0%A4%B8%E0%A5%8D%E0%A4%9F%E0%A5%87%E0%A4%B6%E0%A4%A8+%E0%A4%AE%E0%A4%BE%E0%A4%B8%E0%A5%8D%E0%A4%9F%E0%A4%B0%22', 'promoted_content': None, 'query': '%22%E0%A4%B8%E0%A5%8D%E0%A4%9F%E0%A5%87%E0%A4%B6%E0%A4%A8+%E0%A4%AE%E0%A4%BE%E0%A4%B8%E0%A5%8D%E0%A4%9F%E0%A4%B0%22', 'tweet_volume': None}, {'name': 'Kane', 'url': 'http://twitter.com/search?q=Kane', 'promoted_content': None, 'query': 'Kane', 'tweet_volume': 91412}, {'name': 'Russell', 'url': 'http://twitter.com/search?q=Russell', 'promoted_content': None, 'query': 'Russell', 'tweet_volume': 51095}, {'name': 'Bhopal', 'url': 'http://twitter.com/search?q=Bhopal', 'promoted_content': None, 'query': 'Bhopal', 'tweet_volume': None}, {'name': 'माली समाज', 'url': 'http://twitter.com/search?q=%22%E0%A4%AE%E0%A4%BE%E0%A4%B2%E0%A5%80+%E0%A4%B8%E0%A4%AE%E0%A4%BE%E0%A4%9C%22', 'promoted_content': None, 'query': '%22%E0%A4%AE%E0%A4%BE%E0%A4%B2%E0%A5%80+%E0%A4%B8%E0%A4%AE%E0%A4%BE%E0%A4%9C%22', 'tweet_volume': None}, {'name': 'Boland', 'url': 'http://twitter.com/search?q=Boland', 'promoted_content': None, 'query': 'Boland', 'tweet_volume': None}, {'name': 'Sainz', 'url': 'http://twitter.com/search?q=Sainz', 'promoted_content': None, 'query': 'Sainz', 'tweet_volume': 38695}, {'name': 'Oval', 'url': 'http://twitter.com/search?q=Oval', 'promoted_content': None, 'query': 'Oval', 'tweet_volume': 20605}, {'name': 'संजय सोनी', 'url': 'http://twitter.com/search?q=%22%E0%A4%B8%E0%A4%82%E0%A4%9C%E0%A4%AF+%E0%A4%B8%E0%A5%8B%E0%A4%A8%E0%A5%80%22', 'promoted_content': None, 'query': '%22%E0%A4%B8%E0%A4%82%E0%A4%9C%E0%A4%AF+%E0%A4%B8%E0%A5%8B%E0%A4%A8%E0%A5%80%22', 'tweet_volume': 14573}, {'name': 'Charles', 'url': 'http://twitter.com/search?q=Charles', 'promoted_content': None, 'query': 'Charles', 'tweet_volume': 107077}, {'name': 'Morbi', 'url': 'http://twitter.com/search?q=Morbi', 'promoted_content': None, 'query': 'Morbi', 'tweet_volume': None}, {'name': 'Godhra', 'url': 'http://twitter.com/search?q=Godhra', 'promoted_content': None, 'query': 'Godhra', 'tweet_volume': None}, {'name': 'Barca', 'url': 'http://twitter.com/search?q=Barca', 'promoted_content': None, 'query': 'Barca', 'tweet_volume': 110888}, {'name': 'Lalu', 'url': 'http://twitter.com/search?q=Lalu', 'promoted_content': None, 'query': 'Lalu', 'tweet_volume': 52793}, {'name': 'Perez', 'url': 'http://twitter.com/search?q=Perez', 'promoted_content': None, 'query': 'Perez', 'tweet_volume': 97086}, {'name': 'Air India', 'url': 'http://twitter.com/search?q=%22Air+India%22', 'promoted_content': None, 'query': '%22Air+India%22', 'tweet_volume': None}, {'name': 'Mamta', 'url': 'http://twitter.com/search?q=Mamta', 'promoted_content': None, 'query': 'Mamta', 'tweet_volume': 10311}], 'as_of': '2023-06-04T16:43:06Z', 'created_at': '2023-06-04T02:44:09Z', 'locations': [{'name': 'India', 'woeid': 23424848}]}]\n"
     ]
    }
   ],
   "source": [
    "print(india_trends)"
   ]
  },
  {
   "cell_type": "code",
   "execution_count": 34,
   "metadata": {},
   "outputs": [],
   "source": [
    "top_10_trends = [trend[\"name\"] for trend in india_trends[0][\"trends\"][:10]]"
   ]
  },
  {
   "cell_type": "code",
   "execution_count": 35,
   "metadata": {},
   "outputs": [
    {
     "data": {
      "text/plain": [
       "['#Bihar',\n",
       " '#SatyaPremKiKatha',\n",
       " 'गंगा नदी',\n",
       " 'नीतीश कुमार',\n",
       " 'पुल गिर',\n",
       " '#BorisBringAriha',\n",
       " '#NitishKumar',\n",
       " '#SpanishGP',\n",
       " 'Sushant Mesmerising Smile',\n",
       " 'तेजस्वी यादव']"
      ]
     },
     "execution_count": 35,
     "metadata": {},
     "output_type": "execute_result"
    }
   ],
   "source": [
    "top_10_trends"
   ]
  },
  {
   "cell_type": "code",
   "execution_count": 36,
   "metadata": {},
   "outputs": [
    {
     "name": "stdout",
     "output_type": "stream",
     "text": [
      "['#Bihar', '#SatyaPremKiKatha', 'गंगा नदी', 'नीतीश कुमार', 'पुल गिर', '#BorisBringAriha', '#NitishKumar', '#SpanishGP', 'Sushant Mesmerising Smile', 'तेजस्वी यादव']\n"
     ]
    }
   ],
   "source": [
    "print(top_10_trends)"
   ]
  },
  {
   "cell_type": "code",
   "execution_count": 41,
   "metadata": {},
   "outputs": [
    {
     "name": "stderr",
     "output_type": "stream",
     "text": [
      "c:\\Users\\User\\anaconda3\\files\\lib\\site-packages\\IPython\\core\\pylabtools.py:151: UserWarning: Glyph 2327 (\\N{DEVANAGARI LETTER GA}) missing from current font.\n",
      "  fig.canvas.print_figure(bytes_io, **kw)\n",
      "c:\\Users\\User\\anaconda3\\files\\lib\\site-packages\\IPython\\core\\pylabtools.py:151: UserWarning: Matplotlib currently does not support Devanagari natively.\n",
      "  fig.canvas.print_figure(bytes_io, **kw)\n",
      "c:\\Users\\User\\anaconda3\\files\\lib\\site-packages\\IPython\\core\\pylabtools.py:151: UserWarning: Glyph 2306 (\\N{DEVANAGARI SIGN ANUSVARA}) missing from current font.\n",
      "  fig.canvas.print_figure(bytes_io, **kw)\n",
      "c:\\Users\\User\\anaconda3\\files\\lib\\site-packages\\IPython\\core\\pylabtools.py:151: UserWarning: Glyph 2366 (\\N{DEVANAGARI VOWEL SIGN AA}) missing from current font.\n",
      "  fig.canvas.print_figure(bytes_io, **kw)\n",
      "c:\\Users\\User\\anaconda3\\files\\lib\\site-packages\\IPython\\core\\pylabtools.py:151: UserWarning: Glyph 2344 (\\N{DEVANAGARI LETTER NA}) missing from current font.\n",
      "  fig.canvas.print_figure(bytes_io, **kw)\n",
      "c:\\Users\\User\\anaconda3\\files\\lib\\site-packages\\IPython\\core\\pylabtools.py:151: UserWarning: Glyph 2342 (\\N{DEVANAGARI LETTER DA}) missing from current font.\n",
      "  fig.canvas.print_figure(bytes_io, **kw)\n",
      "c:\\Users\\User\\anaconda3\\files\\lib\\site-packages\\IPython\\core\\pylabtools.py:151: UserWarning: Glyph 2368 (\\N{DEVANAGARI VOWEL SIGN II}) missing from current font.\n",
      "  fig.canvas.print_figure(bytes_io, **kw)\n",
      "c:\\Users\\User\\anaconda3\\files\\lib\\site-packages\\IPython\\core\\pylabtools.py:151: UserWarning: Glyph 2340 (\\N{DEVANAGARI LETTER TA}) missing from current font.\n",
      "  fig.canvas.print_figure(bytes_io, **kw)\n",
      "c:\\Users\\User\\anaconda3\\files\\lib\\site-packages\\IPython\\core\\pylabtools.py:151: UserWarning: Glyph 2358 (\\N{DEVANAGARI LETTER SHA}) missing from current font.\n",
      "  fig.canvas.print_figure(bytes_io, **kw)\n",
      "c:\\Users\\User\\anaconda3\\files\\lib\\site-packages\\IPython\\core\\pylabtools.py:151: UserWarning: Glyph 2325 (\\N{DEVANAGARI LETTER KA}) missing from current font.\n",
      "  fig.canvas.print_figure(bytes_io, **kw)\n",
      "c:\\Users\\User\\anaconda3\\files\\lib\\site-packages\\IPython\\core\\pylabtools.py:151: UserWarning: Glyph 2369 (\\N{DEVANAGARI VOWEL SIGN U}) missing from current font.\n",
      "  fig.canvas.print_figure(bytes_io, **kw)\n",
      "c:\\Users\\User\\anaconda3\\files\\lib\\site-packages\\IPython\\core\\pylabtools.py:151: UserWarning: Glyph 2350 (\\N{DEVANAGARI LETTER MA}) missing from current font.\n",
      "  fig.canvas.print_figure(bytes_io, **kw)\n",
      "c:\\Users\\User\\anaconda3\\files\\lib\\site-packages\\IPython\\core\\pylabtools.py:151: UserWarning: Glyph 2352 (\\N{DEVANAGARI LETTER RA}) missing from current font.\n",
      "  fig.canvas.print_figure(bytes_io, **kw)\n",
      "c:\\Users\\User\\anaconda3\\files\\lib\\site-packages\\IPython\\core\\pylabtools.py:151: UserWarning: Glyph 2346 (\\N{DEVANAGARI LETTER PA}) missing from current font.\n",
      "  fig.canvas.print_figure(bytes_io, **kw)\n",
      "c:\\Users\\User\\anaconda3\\files\\lib\\site-packages\\IPython\\core\\pylabtools.py:151: UserWarning: Glyph 2354 (\\N{DEVANAGARI LETTER LA}) missing from current font.\n",
      "  fig.canvas.print_figure(bytes_io, **kw)\n",
      "c:\\Users\\User\\anaconda3\\files\\lib\\site-packages\\IPython\\core\\pylabtools.py:151: UserWarning: Glyph 2367 (\\N{DEVANAGARI VOWEL SIGN I}) missing from current font.\n",
      "  fig.canvas.print_figure(bytes_io, **kw)\n",
      "c:\\Users\\User\\anaconda3\\files\\lib\\site-packages\\IPython\\core\\pylabtools.py:151: UserWarning: Glyph 2375 (\\N{DEVANAGARI VOWEL SIGN E}) missing from current font.\n",
      "  fig.canvas.print_figure(bytes_io, **kw)\n",
      "c:\\Users\\User\\anaconda3\\files\\lib\\site-packages\\IPython\\core\\pylabtools.py:151: UserWarning: Glyph 2332 (\\N{DEVANAGARI LETTER JA}) missing from current font.\n",
      "  fig.canvas.print_figure(bytes_io, **kw)\n",
      "c:\\Users\\User\\anaconda3\\files\\lib\\site-packages\\IPython\\core\\pylabtools.py:151: UserWarning: Glyph 2360 (\\N{DEVANAGARI LETTER SA}) missing from current font.\n",
      "  fig.canvas.print_figure(bytes_io, **kw)\n",
      "c:\\Users\\User\\anaconda3\\files\\lib\\site-packages\\IPython\\core\\pylabtools.py:151: UserWarning: Glyph 2381 (\\N{DEVANAGARI SIGN VIRAMA}) missing from current font.\n",
      "  fig.canvas.print_figure(bytes_io, **kw)\n",
      "c:\\Users\\User\\anaconda3\\files\\lib\\site-packages\\IPython\\core\\pylabtools.py:151: UserWarning: Glyph 2357 (\\N{DEVANAGARI LETTER VA}) missing from current font.\n",
      "  fig.canvas.print_figure(bytes_io, **kw)\n",
      "c:\\Users\\User\\anaconda3\\files\\lib\\site-packages\\IPython\\core\\pylabtools.py:151: UserWarning: Glyph 2351 (\\N{DEVANAGARI LETTER YA}) missing from current font.\n",
      "  fig.canvas.print_figure(bytes_io, **kw)\n"
     ]
    },
    {
     "data": {
      "image/png": "[encoded data removed]",
      "text/plain": [
       "<Figure size 720x432 with 1 Axes>"
      ]
     },
     "metadata": {
      "needs_background": "light"
     },
     "output_type": "display_data"
    }
   ],
   "source": [
    "plt.figure(figsize=(10, 6))\n",
    "plt.barh(range(10), top_10_trends, align=\"center\")\n",
    "plt.xlabel(\"Trending Topics\")\n",
    "plt.ylabel(\"Rank\")\n",
    "plt.xticks(rotation=30)\n",
    "plt.title(\"Top 10 Twitter Trending Topics in India (Last 24 hours)\")\n",
    "plt.gca().invert_yaxis()\n",
    "plt.show()"
   ]
  },
  {
   "attachments": {},
   "cell_type": "markdown",
   "metadata": {},
   "source": [
    "Some trends are in hindi, So the library unable to understand the language."
   ]
  }
 ],
 "metadata": {
  "kernelspec": {
   "display_name": "base",
   "language": "python",
   "name": "python3"
  },
  "language_info": {
   "codemirror_mode": {
    "name": "ipython",
    "version": 3
   },
   "file_extension": ".py",
   "mimetype": "text/x-python",
   "name": "python",
   "nbconvert_exporter": "python",
   "pygments_lexer": "ipython3",
   "version": "3.9.12"
  },
  "orig_nbformat": 4
 },
 "nbformat": 4,
 "nbformat_minor": 2
}
