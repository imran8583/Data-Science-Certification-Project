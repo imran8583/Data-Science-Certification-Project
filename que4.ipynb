{
 "cells": [
  {
   "attachments": {},
   "cell_type": "markdown",
   "metadata": {},
   "source": [
    "**Question**:\n",
    "Student Attendance Dashboard for Decision Making. You will be given a\n",
    "Google Sheet with different sheets holding data of different classes. Create\n",
    "a dashboard showing a summary of what's happening across different\n",
    "classes. Which students need attention for missing sessions? Which students are unsatisfied? Which students are very satisfied? <Date>\n",
    "Column shows attendance. R-<Date> Column shows the rating by the\n",
    "candidate. Extra marks for identifying more useful insights. Missing values\n",
    "of the Type column can be treated as STUDENT. This data gets updated on\n",
    "a daily basis. The latest data gets injected in early columns. Your code\n",
    "shouldn't need any changes to deal with the latest data. Please note:\n",
    "Visualisation is mandatory. You will receive 0 marks if you do not add\n",
    "visualisation."
   ]
  },
  {
   "attachments": {},
   "cell_type": "markdown",
   "metadata": {},
   "source": [
    "Data Link: https://docs.google.com/spreadsheets/d/1Y_g6LQI2GLqpKf-fj-rH7D9gfnP2MJzpFA6t0AsBMi8/edit?usp=sharing"
   ]
  },
  {
   "attachments": {},
   "cell_type": "markdown",
   "metadata": {},
   "source": [
    "### Import Packages"
   ]
  },
  {
   "cell_type": "code",
   "execution_count": 257,
   "metadata": {},
   "outputs": [],
   "source": [
    "import numpy as np\n",
    "import pandas as pd\n",
    "import matplotlib.pyplot as plt\n",
    "import seaborn as sns"
   ]
  },
  {
   "cell_type": "code",
   "execution_count": 258,
   "metadata": {},
   "outputs": [],
   "source": [
    "cls1 = pd.read_csv(r\"C:\\Users\\User\\Desktop\\Data Science Project\\que4_class1.csv\")\n",
    "cls2 = pd.read_csv(r\"C:\\Users\\User\\Desktop\\Data Science Project\\que4_class2.csv\")"
   ]
  },
  {
   "cell_type": "code",
   "execution_count": 259,
   "metadata": {},
   "outputs": [
    {
     "data": {
      "text/html": [
       "<div>\n",
       "<style scoped>\n",
       "    .dataframe tbody tr th:only-of-type {\n",
       "        vertical-align: middle;\n",
       "    }\n",
       "\n",
       "    .dataframe tbody tr th {\n",
       "        vertical-align: top;\n",
       "    }\n",
       "\n",
       "    .dataframe thead th {\n",
       "        text-align: right;\n",
       "    }\n",
       "</style>\n",
       "<table border=\"1\" class=\"dataframe\">\n",
       "  <thead>\n",
       "    <tr style=\"text-align: right;\">\n",
       "      <th></th>\n",
       "      <th>Student Roll Num</th>\n",
       "      <th>Type</th>\n",
       "      <th>10-01-21</th>\n",
       "      <th>R-10-01-21</th>\n",
       "      <th>09-01-21</th>\n",
       "      <th>R-9-01-21</th>\n",
       "      <th>08-01-21</th>\n",
       "      <th>R-8-01-21</th>\n",
       "      <th>07-01-21</th>\n",
       "      <th>R-7-01-21</th>\n",
       "      <th>...</th>\n",
       "      <th>05-01-21</th>\n",
       "      <th>R-5-01-21</th>\n",
       "      <th>04-01-21</th>\n",
       "      <th>R-4-01-21</th>\n",
       "      <th>03-01-21</th>\n",
       "      <th>R-3-01-21</th>\n",
       "      <th>02-01-21</th>\n",
       "      <th>R-02-01-21</th>\n",
       "      <th>01-01-21</th>\n",
       "      <th>R-01-01-21</th>\n",
       "    </tr>\n",
       "  </thead>\n",
       "  <tbody>\n",
       "    <tr>\n",
       "      <th>0</th>\n",
       "      <td>1</td>\n",
       "      <td>WORKING</td>\n",
       "      <td>Missed</td>\n",
       "      <td>10</td>\n",
       "      <td>Missed</td>\n",
       "      <td>10</td>\n",
       "      <td>Missed</td>\n",
       "      <td>10</td>\n",
       "      <td>Missed</td>\n",
       "      <td>5</td>\n",
       "      <td>...</td>\n",
       "      <td>Missed</td>\n",
       "      <td>5</td>\n",
       "      <td>Missed</td>\n",
       "      <td>5</td>\n",
       "      <td>Missed</td>\n",
       "      <td>7</td>\n",
       "      <td>Missed</td>\n",
       "      <td>5</td>\n",
       "      <td>Missed</td>\n",
       "      <td>8</td>\n",
       "    </tr>\n",
       "    <tr>\n",
       "      <th>1</th>\n",
       "      <td>2</td>\n",
       "      <td>NaN</td>\n",
       "      <td>Missed</td>\n",
       "      <td>10</td>\n",
       "      <td>Missed</td>\n",
       "      <td>6</td>\n",
       "      <td>Missed</td>\n",
       "      <td>6</td>\n",
       "      <td>Attended</td>\n",
       "      <td>6</td>\n",
       "      <td>...</td>\n",
       "      <td>Attended</td>\n",
       "      <td>5</td>\n",
       "      <td>Attended</td>\n",
       "      <td>6</td>\n",
       "      <td>Missed</td>\n",
       "      <td>7</td>\n",
       "      <td>Attended</td>\n",
       "      <td>9</td>\n",
       "      <td>Missed</td>\n",
       "      <td>10</td>\n",
       "    </tr>\n",
       "    <tr>\n",
       "      <th>2</th>\n",
       "      <td>3</td>\n",
       "      <td>STUDENT</td>\n",
       "      <td>Missed</td>\n",
       "      <td>6</td>\n",
       "      <td>Missed</td>\n",
       "      <td>10</td>\n",
       "      <td>Missed</td>\n",
       "      <td>5</td>\n",
       "      <td>Missed</td>\n",
       "      <td>7</td>\n",
       "      <td>...</td>\n",
       "      <td>Attended</td>\n",
       "      <td>6</td>\n",
       "      <td>Missed</td>\n",
       "      <td>6</td>\n",
       "      <td>Missed</td>\n",
       "      <td>10</td>\n",
       "      <td>Attended</td>\n",
       "      <td>7</td>\n",
       "      <td>Attended</td>\n",
       "      <td>10</td>\n",
       "    </tr>\n",
       "    <tr>\n",
       "      <th>3</th>\n",
       "      <td>4</td>\n",
       "      <td>STUDENT</td>\n",
       "      <td>Missed</td>\n",
       "      <td>5</td>\n",
       "      <td>Missed</td>\n",
       "      <td>5</td>\n",
       "      <td>Attended</td>\n",
       "      <td>7</td>\n",
       "      <td>Missed</td>\n",
       "      <td>9</td>\n",
       "      <td>...</td>\n",
       "      <td>Missed</td>\n",
       "      <td>7</td>\n",
       "      <td>Attended</td>\n",
       "      <td>7</td>\n",
       "      <td>Attended</td>\n",
       "      <td>8</td>\n",
       "      <td>Attended</td>\n",
       "      <td>8</td>\n",
       "      <td>Attended</td>\n",
       "      <td>10</td>\n",
       "    </tr>\n",
       "    <tr>\n",
       "      <th>4</th>\n",
       "      <td>5</td>\n",
       "      <td>WORKING</td>\n",
       "      <td>Missed</td>\n",
       "      <td>8</td>\n",
       "      <td>Missed</td>\n",
       "      <td>5</td>\n",
       "      <td>Missed</td>\n",
       "      <td>10</td>\n",
       "      <td>Missed</td>\n",
       "      <td>6</td>\n",
       "      <td>...</td>\n",
       "      <td>Missed</td>\n",
       "      <td>10</td>\n",
       "      <td>Missed</td>\n",
       "      <td>7</td>\n",
       "      <td>Missed</td>\n",
       "      <td>10</td>\n",
       "      <td>Missed</td>\n",
       "      <td>5</td>\n",
       "      <td>Missed</td>\n",
       "      <td>10</td>\n",
       "    </tr>\n",
       "  </tbody>\n",
       "</table>\n",
       "<p>5 rows × 22 columns</p>\n",
       "</div>"
      ],
      "text/plain": [
       "   Student Roll Num     Type 10-01-21  R-10-01-21 09-01-21  R-9-01-21  \\\n",
       "0                 1  WORKING   Missed          10   Missed         10   \n",
       "1                 2      NaN   Missed          10   Missed          6   \n",
       "2                 3  STUDENT   Missed           6   Missed         10   \n",
       "3                 4  STUDENT   Missed           5   Missed          5   \n",
       "4                 5  WORKING   Missed           8   Missed          5   \n",
       "\n",
       "   08-01-21  R-8-01-21  07-01-21  R-7-01-21  ...  05-01-21  R-5-01-21  \\\n",
       "0    Missed         10    Missed          5  ...    Missed          5   \n",
       "1    Missed          6  Attended          6  ...  Attended          5   \n",
       "2    Missed          5    Missed          7  ...  Attended          6   \n",
       "3  Attended          7    Missed          9  ...    Missed          7   \n",
       "4    Missed         10    Missed          6  ...    Missed         10   \n",
       "\n",
       "   04-01-21  R-4-01-21  03-01-21  R-3-01-21  02-01-21  R-02-01-21  01-01-21  \\\n",
       "0    Missed          5    Missed          7    Missed           5    Missed   \n",
       "1  Attended          6    Missed          7  Attended           9    Missed   \n",
       "2    Missed          6    Missed         10  Attended           7  Attended   \n",
       "3  Attended          7  Attended          8  Attended           8  Attended   \n",
       "4    Missed          7    Missed         10    Missed           5    Missed   \n",
       "\n",
       "   R-01-01-21  \n",
       "0           8  \n",
       "1          10  \n",
       "2          10  \n",
       "3          10  \n",
       "4          10  \n",
       "\n",
       "[5 rows x 22 columns]"
      ]
     },
     "execution_count": 259,
     "metadata": {},
     "output_type": "execute_result"
    }
   ],
   "source": [
    "cls1.head()"
   ]
  },
  {
   "cell_type": "code",
   "execution_count": 260,
   "metadata": {},
   "outputs": [
    {
     "data": {
      "text/html": [
       "<div>\n",
       "<style scoped>\n",
       "    .dataframe tbody tr th:only-of-type {\n",
       "        vertical-align: middle;\n",
       "    }\n",
       "\n",
       "    .dataframe tbody tr th {\n",
       "        vertical-align: top;\n",
       "    }\n",
       "\n",
       "    .dataframe thead th {\n",
       "        text-align: right;\n",
       "    }\n",
       "</style>\n",
       "<table border=\"1\" class=\"dataframe\">\n",
       "  <thead>\n",
       "    <tr style=\"text-align: right;\">\n",
       "      <th></th>\n",
       "      <th>Student Roll Num</th>\n",
       "      <th>Type</th>\n",
       "      <th>10-01-21</th>\n",
       "      <th>R-10-01-21</th>\n",
       "      <th>09-01-21</th>\n",
       "      <th>R-9-01-21</th>\n",
       "      <th>08-01-21</th>\n",
       "      <th>R-8-01-21</th>\n",
       "      <th>07-01-21</th>\n",
       "      <th>R-7-01-21</th>\n",
       "      <th>06-01-21</th>\n",
       "      <th>R-6-01-21</th>\n",
       "      <th>05-01-21</th>\n",
       "      <th>R-5-01-21</th>\n",
       "      <th>04-01-21</th>\n",
       "      <th>R-4-01-21</th>\n",
       "      <th>03-01-21</th>\n",
       "      <th>R-3-01-21</th>\n",
       "      <th>01-01-21</th>\n",
       "      <th>R-01-01-21</th>\n",
       "    </tr>\n",
       "  </thead>\n",
       "  <tbody>\n",
       "    <tr>\n",
       "      <th>0</th>\n",
       "      <td>1</td>\n",
       "      <td>NaN</td>\n",
       "      <td>Attended</td>\n",
       "      <td>6</td>\n",
       "      <td>Attended</td>\n",
       "      <td>6</td>\n",
       "      <td>Attended</td>\n",
       "      <td>6</td>\n",
       "      <td>Attended</td>\n",
       "      <td>10</td>\n",
       "      <td>Attended</td>\n",
       "      <td>6</td>\n",
       "      <td>Attended</td>\n",
       "      <td>9</td>\n",
       "      <td>Attended</td>\n",
       "      <td>5</td>\n",
       "      <td>Missed</td>\n",
       "      <td>7</td>\n",
       "      <td>NaN</td>\n",
       "      <td>NaN</td>\n",
       "    </tr>\n",
       "    <tr>\n",
       "      <th>1</th>\n",
       "      <td>2</td>\n",
       "      <td>NaN</td>\n",
       "      <td>Attended</td>\n",
       "      <td>10</td>\n",
       "      <td>Attended</td>\n",
       "      <td>5</td>\n",
       "      <td>Attended</td>\n",
       "      <td>5</td>\n",
       "      <td>Attended</td>\n",
       "      <td>5</td>\n",
       "      <td>Attended</td>\n",
       "      <td>9</td>\n",
       "      <td>Attended</td>\n",
       "      <td>5</td>\n",
       "      <td>Attended</td>\n",
       "      <td>10</td>\n",
       "      <td>Attended</td>\n",
       "      <td>6</td>\n",
       "      <td>NaN</td>\n",
       "      <td>NaN</td>\n",
       "    </tr>\n",
       "    <tr>\n",
       "      <th>2</th>\n",
       "      <td>3</td>\n",
       "      <td>STUDENT</td>\n",
       "      <td>Missed</td>\n",
       "      <td>6</td>\n",
       "      <td>Missed</td>\n",
       "      <td>7</td>\n",
       "      <td>Missed</td>\n",
       "      <td>9</td>\n",
       "      <td>Missed</td>\n",
       "      <td>9</td>\n",
       "      <td>Missed</td>\n",
       "      <td>5</td>\n",
       "      <td>Missed</td>\n",
       "      <td>9</td>\n",
       "      <td>Missed</td>\n",
       "      <td>7</td>\n",
       "      <td>Missed</td>\n",
       "      <td>5</td>\n",
       "      <td>NaN</td>\n",
       "      <td>NaN</td>\n",
       "    </tr>\n",
       "    <tr>\n",
       "      <th>3</th>\n",
       "      <td>4</td>\n",
       "      <td>NaN</td>\n",
       "      <td>Attended</td>\n",
       "      <td>9</td>\n",
       "      <td>Attended</td>\n",
       "      <td>8</td>\n",
       "      <td>Attended</td>\n",
       "      <td>6</td>\n",
       "      <td>Attended</td>\n",
       "      <td>6</td>\n",
       "      <td>Missed</td>\n",
       "      <td>7</td>\n",
       "      <td>Missed</td>\n",
       "      <td>10</td>\n",
       "      <td>Attended</td>\n",
       "      <td>8</td>\n",
       "      <td>Attended</td>\n",
       "      <td>7</td>\n",
       "      <td>NaN</td>\n",
       "      <td>NaN</td>\n",
       "    </tr>\n",
       "    <tr>\n",
       "      <th>4</th>\n",
       "      <td>5</td>\n",
       "      <td>WORKING</td>\n",
       "      <td>Attended</td>\n",
       "      <td>6</td>\n",
       "      <td>Attended</td>\n",
       "      <td>7</td>\n",
       "      <td>Attended</td>\n",
       "      <td>7</td>\n",
       "      <td>Missed</td>\n",
       "      <td>7</td>\n",
       "      <td>Missed</td>\n",
       "      <td>5</td>\n",
       "      <td>Missed</td>\n",
       "      <td>8</td>\n",
       "      <td>Missed</td>\n",
       "      <td>7</td>\n",
       "      <td>Missed</td>\n",
       "      <td>9</td>\n",
       "      <td>NaN</td>\n",
       "      <td>NaN</td>\n",
       "    </tr>\n",
       "  </tbody>\n",
       "</table>\n",
       "</div>"
      ],
      "text/plain": [
       "   Student Roll Num     Type  10-01-21  R-10-01-21  09-01-21  R-9-01-21  \\\n",
       "0                 1      NaN  Attended           6  Attended          6   \n",
       "1                 2      NaN  Attended          10  Attended          5   \n",
       "2                 3  STUDENT    Missed           6    Missed          7   \n",
       "3                 4      NaN  Attended           9  Attended          8   \n",
       "4                 5  WORKING  Attended           6  Attended          7   \n",
       "\n",
       "   08-01-21  R-8-01-21  07-01-21  R-7-01-21  06-01-21  R-6-01-21  05-01-21  \\\n",
       "0  Attended          6  Attended         10  Attended          6  Attended   \n",
       "1  Attended          5  Attended          5  Attended          9  Attended   \n",
       "2    Missed          9    Missed          9    Missed          5    Missed   \n",
       "3  Attended          6  Attended          6    Missed          7    Missed   \n",
       "4  Attended          7    Missed          7    Missed          5    Missed   \n",
       "\n",
       "   R-5-01-21  04-01-21  R-4-01-21  03-01-21  R-3-01-21  01-01-21  R-01-01-21  \n",
       "0          9  Attended          5    Missed          7       NaN         NaN  \n",
       "1          5  Attended         10  Attended          6       NaN         NaN  \n",
       "2          9    Missed          7    Missed          5       NaN         NaN  \n",
       "3         10  Attended          8  Attended          7       NaN         NaN  \n",
       "4          8    Missed          7    Missed          9       NaN         NaN  "
      ]
     },
     "execution_count": 260,
     "metadata": {},
     "output_type": "execute_result"
    }
   ],
   "source": [
    "cls2.head()"
   ]
  },
  {
   "cell_type": "code",
   "execution_count": 261,
   "metadata": {},
   "outputs": [
    {
     "name": "stdout",
     "output_type": "stream",
     "text": [
      "(57, 22)\n",
      "(70, 20)\n"
     ]
    }
   ],
   "source": [
    "print(cls1.shape)\n",
    "print(cls2.shape)"
   ]
  },
  {
   "attachments": {},
   "cell_type": "markdown",
   "metadata": {},
   "source": [
    "**Class 1:**"
   ]
  },
  {
   "cell_type": "code",
   "execution_count": 262,
   "metadata": {},
   "outputs": [
    {
     "data": {
      "text/plain": [
       "Index(['Student Roll Num', 'Type', '10-01-21', 'R-10-01-21', '09-01-21',\n",
       "       'R-9-01-21', '08-01-21', 'R-8-01-21', '07-01-21', 'R-7-01-21',\n",
       "       '06-01-21', 'R-6-01-21', '05-01-21', 'R-5-01-21', '04-01-21',\n",
       "       'R-4-01-21', '03-01-21', 'R-3-01-21', '02-01-21', 'R-02-01-21',\n",
       "       '01-01-21', 'R-01-01-21'],\n",
       "      dtype='object')"
      ]
     },
     "execution_count": 262,
     "metadata": {},
     "output_type": "execute_result"
    }
   ],
   "source": [
    "cls1.columns"
   ]
  },
  {
   "cell_type": "code",
   "execution_count": 263,
   "metadata": {},
   "outputs": [
    {
     "name": "stdout",
     "output_type": "stream",
     "text": [
      "<class 'pandas.core.frame.DataFrame'>\n",
      "RangeIndex: 57 entries, 0 to 56\n",
      "Data columns (total 22 columns):\n",
      " #   Column            Non-Null Count  Dtype \n",
      "---  ------            --------------  ----- \n",
      " 0   Student Roll Num  57 non-null     int64 \n",
      " 1   Type              32 non-null     object\n",
      " 2   10-01-21          57 non-null     object\n",
      " 3   R-10-01-21        57 non-null     int64 \n",
      " 4   09-01-21          57 non-null     object\n",
      " 5   R-9-01-21         57 non-null     int64 \n",
      " 6   08-01-21          57 non-null     object\n",
      " 7   R-8-01-21         57 non-null     int64 \n",
      " 8   07-01-21          56 non-null     object\n",
      " 9   R-7-01-21         57 non-null     int64 \n",
      " 10  06-01-21          56 non-null     object\n",
      " 11  R-6-01-21         57 non-null     int64 \n",
      " 12  05-01-21          56 non-null     object\n",
      " 13  R-5-01-21         57 non-null     int64 \n",
      " 14  04-01-21          56 non-null     object\n",
      " 15  R-4-01-21         57 non-null     int64 \n",
      " 16  03-01-21          56 non-null     object\n",
      " 17  R-3-01-21         57 non-null     int64 \n",
      " 18  02-01-21          56 non-null     object\n",
      " 19  R-02-01-21        57 non-null     int64 \n",
      " 20  01-01-21          56 non-null     object\n",
      " 21  R-01-01-21        57 non-null     int64 \n",
      "dtypes: int64(11), object(11)\n",
      "memory usage: 9.9+ KB\n"
     ]
    }
   ],
   "source": [
    "cls1.info()"
   ]
  },
  {
   "cell_type": "code",
   "execution_count": 264,
   "metadata": {},
   "outputs": [
    {
     "data": {
      "text/html": [
       "<div>\n",
       "<style scoped>\n",
       "    .dataframe tbody tr th:only-of-type {\n",
       "        vertical-align: middle;\n",
       "    }\n",
       "\n",
       "    .dataframe tbody tr th {\n",
       "        vertical-align: top;\n",
       "    }\n",
       "\n",
       "    .dataframe thead th {\n",
       "        text-align: right;\n",
       "    }\n",
       "</style>\n",
       "<table border=\"1\" class=\"dataframe\">\n",
       "  <thead>\n",
       "    <tr style=\"text-align: right;\">\n",
       "      <th></th>\n",
       "      <th>Student Roll Num</th>\n",
       "      <th>R-10-01-21</th>\n",
       "      <th>R-9-01-21</th>\n",
       "      <th>R-8-01-21</th>\n",
       "      <th>R-7-01-21</th>\n",
       "      <th>R-6-01-21</th>\n",
       "      <th>R-5-01-21</th>\n",
       "      <th>R-4-01-21</th>\n",
       "      <th>R-3-01-21</th>\n",
       "      <th>R-02-01-21</th>\n",
       "      <th>R-01-01-21</th>\n",
       "    </tr>\n",
       "  </thead>\n",
       "  <tbody>\n",
       "    <tr>\n",
       "      <th>count</th>\n",
       "      <td>57.000000</td>\n",
       "      <td>57.000000</td>\n",
       "      <td>57.000000</td>\n",
       "      <td>57.000000</td>\n",
       "      <td>57.000000</td>\n",
       "      <td>57.000000</td>\n",
       "      <td>57.000000</td>\n",
       "      <td>57.000000</td>\n",
       "      <td>57.000000</td>\n",
       "      <td>57.000000</td>\n",
       "      <td>57.000000</td>\n",
       "    </tr>\n",
       "    <tr>\n",
       "      <th>mean</th>\n",
       "      <td>29.000000</td>\n",
       "      <td>7.631579</td>\n",
       "      <td>7.561404</td>\n",
       "      <td>7.754386</td>\n",
       "      <td>7.561404</td>\n",
       "      <td>7.789474</td>\n",
       "      <td>7.403509</td>\n",
       "      <td>7.666667</td>\n",
       "      <td>7.824561</td>\n",
       "      <td>7.017544</td>\n",
       "      <td>7.614035</td>\n",
       "    </tr>\n",
       "    <tr>\n",
       "      <th>std</th>\n",
       "      <td>16.598193</td>\n",
       "      <td>1.654340</td>\n",
       "      <td>1.861427</td>\n",
       "      <td>1.795637</td>\n",
       "      <td>1.772987</td>\n",
       "      <td>1.543845</td>\n",
       "      <td>1.879016</td>\n",
       "      <td>1.640267</td>\n",
       "      <td>1.753800</td>\n",
       "      <td>1.705990</td>\n",
       "      <td>1.849270</td>\n",
       "    </tr>\n",
       "    <tr>\n",
       "      <th>min</th>\n",
       "      <td>1.000000</td>\n",
       "      <td>5.000000</td>\n",
       "      <td>5.000000</td>\n",
       "      <td>5.000000</td>\n",
       "      <td>5.000000</td>\n",
       "      <td>5.000000</td>\n",
       "      <td>5.000000</td>\n",
       "      <td>5.000000</td>\n",
       "      <td>5.000000</td>\n",
       "      <td>5.000000</td>\n",
       "      <td>5.000000</td>\n",
       "    </tr>\n",
       "    <tr>\n",
       "      <th>25%</th>\n",
       "      <td>15.000000</td>\n",
       "      <td>6.000000</td>\n",
       "      <td>6.000000</td>\n",
       "      <td>6.000000</td>\n",
       "      <td>6.000000</td>\n",
       "      <td>7.000000</td>\n",
       "      <td>6.000000</td>\n",
       "      <td>7.000000</td>\n",
       "      <td>6.000000</td>\n",
       "      <td>6.000000</td>\n",
       "      <td>6.000000</td>\n",
       "    </tr>\n",
       "    <tr>\n",
       "      <th>50%</th>\n",
       "      <td>29.000000</td>\n",
       "      <td>8.000000</td>\n",
       "      <td>8.000000</td>\n",
       "      <td>8.000000</td>\n",
       "      <td>8.000000</td>\n",
       "      <td>8.000000</td>\n",
       "      <td>7.000000</td>\n",
       "      <td>8.000000</td>\n",
       "      <td>8.000000</td>\n",
       "      <td>7.000000</td>\n",
       "      <td>8.000000</td>\n",
       "    </tr>\n",
       "    <tr>\n",
       "      <th>75%</th>\n",
       "      <td>43.000000</td>\n",
       "      <td>9.000000</td>\n",
       "      <td>9.000000</td>\n",
       "      <td>9.000000</td>\n",
       "      <td>9.000000</td>\n",
       "      <td>9.000000</td>\n",
       "      <td>9.000000</td>\n",
       "      <td>9.000000</td>\n",
       "      <td>9.000000</td>\n",
       "      <td>8.000000</td>\n",
       "      <td>9.000000</td>\n",
       "    </tr>\n",
       "    <tr>\n",
       "      <th>max</th>\n",
       "      <td>57.000000</td>\n",
       "      <td>10.000000</td>\n",
       "      <td>10.000000</td>\n",
       "      <td>10.000000</td>\n",
       "      <td>10.000000</td>\n",
       "      <td>10.000000</td>\n",
       "      <td>10.000000</td>\n",
       "      <td>10.000000</td>\n",
       "      <td>10.000000</td>\n",
       "      <td>10.000000</td>\n",
       "      <td>10.000000</td>\n",
       "    </tr>\n",
       "  </tbody>\n",
       "</table>\n",
       "</div>"
      ],
      "text/plain": [
       "       Student Roll Num  R-10-01-21  R-9-01-21  R-8-01-21  R-7-01-21  \\\n",
       "count         57.000000   57.000000  57.000000  57.000000  57.000000   \n",
       "mean          29.000000    7.631579   7.561404   7.754386   7.561404   \n",
       "std           16.598193    1.654340   1.861427   1.795637   1.772987   \n",
       "min            1.000000    5.000000   5.000000   5.000000   5.000000   \n",
       "25%           15.000000    6.000000   6.000000   6.000000   6.000000   \n",
       "50%           29.000000    8.000000   8.000000   8.000000   8.000000   \n",
       "75%           43.000000    9.000000   9.000000   9.000000   9.000000   \n",
       "max           57.000000   10.000000  10.000000  10.000000  10.000000   \n",
       "\n",
       "       R-6-01-21  R-5-01-21  R-4-01-21  R-3-01-21  R-02-01-21  R-01-01-21  \n",
       "count  57.000000  57.000000  57.000000  57.000000   57.000000   57.000000  \n",
       "mean    7.789474   7.403509   7.666667   7.824561    7.017544    7.614035  \n",
       "std     1.543845   1.879016   1.640267   1.753800    1.705990    1.849270  \n",
       "min     5.000000   5.000000   5.000000   5.000000    5.000000    5.000000  \n",
       "25%     7.000000   6.000000   7.000000   6.000000    6.000000    6.000000  \n",
       "50%     8.000000   7.000000   8.000000   8.000000    7.000000    8.000000  \n",
       "75%     9.000000   9.000000   9.000000   9.000000    8.000000    9.000000  \n",
       "max    10.000000  10.000000  10.000000  10.000000   10.000000   10.000000  "
      ]
     },
     "execution_count": 264,
     "metadata": {},
     "output_type": "execute_result"
    }
   ],
   "source": [
    "cls1.describe()"
   ]
  },
  {
   "cell_type": "code",
   "execution_count": 265,
   "metadata": {},
   "outputs": [
    {
     "data": {
      "text/plain": [
       "Type                25\n",
       "01-01-21             1\n",
       "02-01-21             1\n",
       "03-01-21             1\n",
       "07-01-21             1\n",
       "04-01-21             1\n",
       "06-01-21             1\n",
       "05-01-21             1\n",
       "Student Roll Num     0\n",
       "R-5-01-21            0\n",
       "dtype: int64"
      ]
     },
     "execution_count": 265,
     "metadata": {},
     "output_type": "execute_result"
    }
   ],
   "source": [
    "cls1.isnull().sum().sort_values(ascending=False).head(10)"
   ]
  },
  {
   "cell_type": "code",
   "execution_count": 266,
   "metadata": {},
   "outputs": [],
   "source": [
    "cls1[\"01-01-21\"].fillna(cls1[\"01-01-21\"].mode()[0], inplace=True)"
   ]
  },
  {
   "cell_type": "code",
   "execution_count": 267,
   "metadata": {},
   "outputs": [],
   "source": [
    "cls1[\"02-01-21\"].fillna(cls1[\"02-01-21\"].mode()[0], inplace=True)"
   ]
  },
  {
   "cell_type": "code",
   "execution_count": 268,
   "metadata": {},
   "outputs": [],
   "source": [
    "cls1[\"03-01-21\"].fillna(cls1[\"03-01-21\"].mode()[0], inplace=True)"
   ]
  },
  {
   "cell_type": "code",
   "execution_count": 269,
   "metadata": {},
   "outputs": [],
   "source": [
    "cls1[\"04-01-21\"].fillna(cls1[\"04-01-21\"].mode()[0], inplace=True)"
   ]
  },
  {
   "cell_type": "code",
   "execution_count": 270,
   "metadata": {},
   "outputs": [],
   "source": [
    "cls1[\"05-01-21\"].fillna(cls1[\"05-01-21\"].mode()[0], inplace=True)"
   ]
  },
  {
   "cell_type": "code",
   "execution_count": 271,
   "metadata": {},
   "outputs": [],
   "source": [
    "cls1[\"06-01-21\"].fillna(cls1[\"06-01-21\"].mode()[0], inplace=True)"
   ]
  },
  {
   "cell_type": "code",
   "execution_count": 272,
   "metadata": {},
   "outputs": [],
   "source": [
    "cls1[\"07-01-21\"].fillna(cls1[\"07-01-21\"].mode()[0], inplace=True)"
   ]
  },
  {
   "cell_type": "code",
   "execution_count": 273,
   "metadata": {},
   "outputs": [],
   "source": [
    "cls1['Type'].fillna(cls1['Type'].mode()[0], inplace=True)"
   ]
  },
  {
   "cell_type": "code",
   "execution_count": 274,
   "metadata": {},
   "outputs": [
    {
     "data": {
      "text/plain": [
       "Student Roll Num    0\n",
       "Type                0\n",
       "01-01-21            0\n",
       "R-02-01-21          0\n",
       "02-01-21            0\n",
       "R-3-01-21           0\n",
       "03-01-21            0\n",
       "R-4-01-21           0\n",
       "04-01-21            0\n",
       "R-5-01-21           0\n",
       "dtype: int64"
      ]
     },
     "execution_count": 274,
     "metadata": {},
     "output_type": "execute_result"
    }
   ],
   "source": [
    "cls1.isnull().sum().sort_values(ascending=False).head(10)"
   ]
  },
  {
   "cell_type": "code",
   "execution_count": 275,
   "metadata": {},
   "outputs": [
    {
     "data": {
      "text/html": [
       "<div>\n",
       "<style scoped>\n",
       "    .dataframe tbody tr th:only-of-type {\n",
       "        vertical-align: middle;\n",
       "    }\n",
       "\n",
       "    .dataframe tbody tr th {\n",
       "        vertical-align: top;\n",
       "    }\n",
       "\n",
       "    .dataframe thead th {\n",
       "        text-align: right;\n",
       "    }\n",
       "</style>\n",
       "<table border=\"1\" class=\"dataframe\">\n",
       "  <thead>\n",
       "    <tr style=\"text-align: right;\">\n",
       "      <th></th>\n",
       "      <th>Student Roll Num</th>\n",
       "      <th>Type</th>\n",
       "      <th>10-01-21</th>\n",
       "      <th>R-10-01-21</th>\n",
       "      <th>09-01-21</th>\n",
       "      <th>R-9-01-21</th>\n",
       "      <th>08-01-21</th>\n",
       "      <th>R-8-01-21</th>\n",
       "      <th>07-01-21</th>\n",
       "      <th>R-7-01-21</th>\n",
       "      <th>...</th>\n",
       "      <th>05-01-21</th>\n",
       "      <th>R-5-01-21</th>\n",
       "      <th>04-01-21</th>\n",
       "      <th>R-4-01-21</th>\n",
       "      <th>03-01-21</th>\n",
       "      <th>R-3-01-21</th>\n",
       "      <th>02-01-21</th>\n",
       "      <th>R-02-01-21</th>\n",
       "      <th>01-01-21</th>\n",
       "      <th>R-01-01-21</th>\n",
       "    </tr>\n",
       "  </thead>\n",
       "  <tbody>\n",
       "    <tr>\n",
       "      <th>0</th>\n",
       "      <td>1</td>\n",
       "      <td>WORKING</td>\n",
       "      <td>Missed</td>\n",
       "      <td>10</td>\n",
       "      <td>Missed</td>\n",
       "      <td>10</td>\n",
       "      <td>Missed</td>\n",
       "      <td>10</td>\n",
       "      <td>Missed</td>\n",
       "      <td>5</td>\n",
       "      <td>...</td>\n",
       "      <td>Missed</td>\n",
       "      <td>5</td>\n",
       "      <td>Missed</td>\n",
       "      <td>5</td>\n",
       "      <td>Missed</td>\n",
       "      <td>7</td>\n",
       "      <td>Missed</td>\n",
       "      <td>5</td>\n",
       "      <td>Missed</td>\n",
       "      <td>8</td>\n",
       "    </tr>\n",
       "    <tr>\n",
       "      <th>1</th>\n",
       "      <td>2</td>\n",
       "      <td>STUDENT</td>\n",
       "      <td>Missed</td>\n",
       "      <td>10</td>\n",
       "      <td>Missed</td>\n",
       "      <td>6</td>\n",
       "      <td>Missed</td>\n",
       "      <td>6</td>\n",
       "      <td>Attended</td>\n",
       "      <td>6</td>\n",
       "      <td>...</td>\n",
       "      <td>Attended</td>\n",
       "      <td>5</td>\n",
       "      <td>Attended</td>\n",
       "      <td>6</td>\n",
       "      <td>Missed</td>\n",
       "      <td>7</td>\n",
       "      <td>Attended</td>\n",
       "      <td>9</td>\n",
       "      <td>Missed</td>\n",
       "      <td>10</td>\n",
       "    </tr>\n",
       "    <tr>\n",
       "      <th>2</th>\n",
       "      <td>3</td>\n",
       "      <td>STUDENT</td>\n",
       "      <td>Missed</td>\n",
       "      <td>6</td>\n",
       "      <td>Missed</td>\n",
       "      <td>10</td>\n",
       "      <td>Missed</td>\n",
       "      <td>5</td>\n",
       "      <td>Missed</td>\n",
       "      <td>7</td>\n",
       "      <td>...</td>\n",
       "      <td>Attended</td>\n",
       "      <td>6</td>\n",
       "      <td>Missed</td>\n",
       "      <td>6</td>\n",
       "      <td>Missed</td>\n",
       "      <td>10</td>\n",
       "      <td>Attended</td>\n",
       "      <td>7</td>\n",
       "      <td>Attended</td>\n",
       "      <td>10</td>\n",
       "    </tr>\n",
       "    <tr>\n",
       "      <th>3</th>\n",
       "      <td>4</td>\n",
       "      <td>STUDENT</td>\n",
       "      <td>Missed</td>\n",
       "      <td>5</td>\n",
       "      <td>Missed</td>\n",
       "      <td>5</td>\n",
       "      <td>Attended</td>\n",
       "      <td>7</td>\n",
       "      <td>Missed</td>\n",
       "      <td>9</td>\n",
       "      <td>...</td>\n",
       "      <td>Missed</td>\n",
       "      <td>7</td>\n",
       "      <td>Attended</td>\n",
       "      <td>7</td>\n",
       "      <td>Attended</td>\n",
       "      <td>8</td>\n",
       "      <td>Attended</td>\n",
       "      <td>8</td>\n",
       "      <td>Attended</td>\n",
       "      <td>10</td>\n",
       "    </tr>\n",
       "    <tr>\n",
       "      <th>4</th>\n",
       "      <td>5</td>\n",
       "      <td>WORKING</td>\n",
       "      <td>Missed</td>\n",
       "      <td>8</td>\n",
       "      <td>Missed</td>\n",
       "      <td>5</td>\n",
       "      <td>Missed</td>\n",
       "      <td>10</td>\n",
       "      <td>Missed</td>\n",
       "      <td>6</td>\n",
       "      <td>...</td>\n",
       "      <td>Missed</td>\n",
       "      <td>10</td>\n",
       "      <td>Missed</td>\n",
       "      <td>7</td>\n",
       "      <td>Missed</td>\n",
       "      <td>10</td>\n",
       "      <td>Missed</td>\n",
       "      <td>5</td>\n",
       "      <td>Missed</td>\n",
       "      <td>10</td>\n",
       "    </tr>\n",
       "  </tbody>\n",
       "</table>\n",
       "<p>5 rows × 22 columns</p>\n",
       "</div>"
      ],
      "text/plain": [
       "   Student Roll Num     Type 10-01-21  R-10-01-21 09-01-21  R-9-01-21  \\\n",
       "0                 1  WORKING   Missed          10   Missed         10   \n",
       "1                 2  STUDENT   Missed          10   Missed          6   \n",
       "2                 3  STUDENT   Missed           6   Missed         10   \n",
       "3                 4  STUDENT   Missed           5   Missed          5   \n",
       "4                 5  WORKING   Missed           8   Missed          5   \n",
       "\n",
       "   08-01-21  R-8-01-21  07-01-21  R-7-01-21  ...  05-01-21  R-5-01-21  \\\n",
       "0    Missed         10    Missed          5  ...    Missed          5   \n",
       "1    Missed          6  Attended          6  ...  Attended          5   \n",
       "2    Missed          5    Missed          7  ...  Attended          6   \n",
       "3  Attended          7    Missed          9  ...    Missed          7   \n",
       "4    Missed         10    Missed          6  ...    Missed         10   \n",
       "\n",
       "   04-01-21  R-4-01-21  03-01-21  R-3-01-21  02-01-21  R-02-01-21  01-01-21  \\\n",
       "0    Missed          5    Missed          7    Missed           5    Missed   \n",
       "1  Attended          6    Missed          7  Attended           9    Missed   \n",
       "2    Missed          6    Missed         10  Attended           7  Attended   \n",
       "3  Attended          7  Attended          8  Attended           8  Attended   \n",
       "4    Missed          7    Missed         10    Missed           5    Missed   \n",
       "\n",
       "   R-01-01-21  \n",
       "0           8  \n",
       "1          10  \n",
       "2          10  \n",
       "3          10  \n",
       "4          10  \n",
       "\n",
       "[5 rows x 22 columns]"
      ]
     },
     "execution_count": 275,
     "metadata": {},
     "output_type": "execute_result"
    }
   ],
   "source": [
    "cls1.head()"
   ]
  },
  {
   "attachments": {},
   "cell_type": "markdown",
   "metadata": {},
   "source": [
    "**Class 2:**"
   ]
  },
  {
   "cell_type": "code",
   "execution_count": 276,
   "metadata": {},
   "outputs": [
    {
     "data": {
      "text/html": [
       "<div>\n",
       "<style scoped>\n",
       "    .dataframe tbody tr th:only-of-type {\n",
       "        vertical-align: middle;\n",
       "    }\n",
       "\n",
       "    .dataframe tbody tr th {\n",
       "        vertical-align: top;\n",
       "    }\n",
       "\n",
       "    .dataframe thead th {\n",
       "        text-align: right;\n",
       "    }\n",
       "</style>\n",
       "<table border=\"1\" class=\"dataframe\">\n",
       "  <thead>\n",
       "    <tr style=\"text-align: right;\">\n",
       "      <th></th>\n",
       "      <th>Student Roll Num</th>\n",
       "      <th>Type</th>\n",
       "      <th>10-01-21</th>\n",
       "      <th>R-10-01-21</th>\n",
       "      <th>09-01-21</th>\n",
       "      <th>R-9-01-21</th>\n",
       "      <th>08-01-21</th>\n",
       "      <th>R-8-01-21</th>\n",
       "      <th>07-01-21</th>\n",
       "      <th>R-7-01-21</th>\n",
       "      <th>06-01-21</th>\n",
       "      <th>R-6-01-21</th>\n",
       "      <th>05-01-21</th>\n",
       "      <th>R-5-01-21</th>\n",
       "      <th>04-01-21</th>\n",
       "      <th>R-4-01-21</th>\n",
       "      <th>03-01-21</th>\n",
       "      <th>R-3-01-21</th>\n",
       "      <th>01-01-21</th>\n",
       "      <th>R-01-01-21</th>\n",
       "    </tr>\n",
       "  </thead>\n",
       "  <tbody>\n",
       "    <tr>\n",
       "      <th>0</th>\n",
       "      <td>1</td>\n",
       "      <td>NaN</td>\n",
       "      <td>Attended</td>\n",
       "      <td>6</td>\n",
       "      <td>Attended</td>\n",
       "      <td>6</td>\n",
       "      <td>Attended</td>\n",
       "      <td>6</td>\n",
       "      <td>Attended</td>\n",
       "      <td>10</td>\n",
       "      <td>Attended</td>\n",
       "      <td>6</td>\n",
       "      <td>Attended</td>\n",
       "      <td>9</td>\n",
       "      <td>Attended</td>\n",
       "      <td>5</td>\n",
       "      <td>Missed</td>\n",
       "      <td>7</td>\n",
       "      <td>NaN</td>\n",
       "      <td>NaN</td>\n",
       "    </tr>\n",
       "    <tr>\n",
       "      <th>1</th>\n",
       "      <td>2</td>\n",
       "      <td>NaN</td>\n",
       "      <td>Attended</td>\n",
       "      <td>10</td>\n",
       "      <td>Attended</td>\n",
       "      <td>5</td>\n",
       "      <td>Attended</td>\n",
       "      <td>5</td>\n",
       "      <td>Attended</td>\n",
       "      <td>5</td>\n",
       "      <td>Attended</td>\n",
       "      <td>9</td>\n",
       "      <td>Attended</td>\n",
       "      <td>5</td>\n",
       "      <td>Attended</td>\n",
       "      <td>10</td>\n",
       "      <td>Attended</td>\n",
       "      <td>6</td>\n",
       "      <td>NaN</td>\n",
       "      <td>NaN</td>\n",
       "    </tr>\n",
       "    <tr>\n",
       "      <th>2</th>\n",
       "      <td>3</td>\n",
       "      <td>STUDENT</td>\n",
       "      <td>Missed</td>\n",
       "      <td>6</td>\n",
       "      <td>Missed</td>\n",
       "      <td>7</td>\n",
       "      <td>Missed</td>\n",
       "      <td>9</td>\n",
       "      <td>Missed</td>\n",
       "      <td>9</td>\n",
       "      <td>Missed</td>\n",
       "      <td>5</td>\n",
       "      <td>Missed</td>\n",
       "      <td>9</td>\n",
       "      <td>Missed</td>\n",
       "      <td>7</td>\n",
       "      <td>Missed</td>\n",
       "      <td>5</td>\n",
       "      <td>NaN</td>\n",
       "      <td>NaN</td>\n",
       "    </tr>\n",
       "    <tr>\n",
       "      <th>3</th>\n",
       "      <td>4</td>\n",
       "      <td>NaN</td>\n",
       "      <td>Attended</td>\n",
       "      <td>9</td>\n",
       "      <td>Attended</td>\n",
       "      <td>8</td>\n",
       "      <td>Attended</td>\n",
       "      <td>6</td>\n",
       "      <td>Attended</td>\n",
       "      <td>6</td>\n",
       "      <td>Missed</td>\n",
       "      <td>7</td>\n",
       "      <td>Missed</td>\n",
       "      <td>10</td>\n",
       "      <td>Attended</td>\n",
       "      <td>8</td>\n",
       "      <td>Attended</td>\n",
       "      <td>7</td>\n",
       "      <td>NaN</td>\n",
       "      <td>NaN</td>\n",
       "    </tr>\n",
       "    <tr>\n",
       "      <th>4</th>\n",
       "      <td>5</td>\n",
       "      <td>WORKING</td>\n",
       "      <td>Attended</td>\n",
       "      <td>6</td>\n",
       "      <td>Attended</td>\n",
       "      <td>7</td>\n",
       "      <td>Attended</td>\n",
       "      <td>7</td>\n",
       "      <td>Missed</td>\n",
       "      <td>7</td>\n",
       "      <td>Missed</td>\n",
       "      <td>5</td>\n",
       "      <td>Missed</td>\n",
       "      <td>8</td>\n",
       "      <td>Missed</td>\n",
       "      <td>7</td>\n",
       "      <td>Missed</td>\n",
       "      <td>9</td>\n",
       "      <td>NaN</td>\n",
       "      <td>NaN</td>\n",
       "    </tr>\n",
       "  </tbody>\n",
       "</table>\n",
       "</div>"
      ],
      "text/plain": [
       "   Student Roll Num     Type  10-01-21  R-10-01-21  09-01-21  R-9-01-21  \\\n",
       "0                 1      NaN  Attended           6  Attended          6   \n",
       "1                 2      NaN  Attended          10  Attended          5   \n",
       "2                 3  STUDENT    Missed           6    Missed          7   \n",
       "3                 4      NaN  Attended           9  Attended          8   \n",
       "4                 5  WORKING  Attended           6  Attended          7   \n",
       "\n",
       "   08-01-21  R-8-01-21  07-01-21  R-7-01-21  06-01-21  R-6-01-21  05-01-21  \\\n",
       "0  Attended          6  Attended         10  Attended          6  Attended   \n",
       "1  Attended          5  Attended          5  Attended          9  Attended   \n",
       "2    Missed          9    Missed          9    Missed          5    Missed   \n",
       "3  Attended          6  Attended          6    Missed          7    Missed   \n",
       "4  Attended          7    Missed          7    Missed          5    Missed   \n",
       "\n",
       "   R-5-01-21  04-01-21  R-4-01-21  03-01-21  R-3-01-21  01-01-21  R-01-01-21  \n",
       "0          9  Attended          5    Missed          7       NaN         NaN  \n",
       "1          5  Attended         10  Attended          6       NaN         NaN  \n",
       "2          9    Missed          7    Missed          5       NaN         NaN  \n",
       "3         10  Attended          8  Attended          7       NaN         NaN  \n",
       "4          8    Missed          7    Missed          9       NaN         NaN  "
      ]
     },
     "execution_count": 276,
     "metadata": {},
     "output_type": "execute_result"
    }
   ],
   "source": [
    "cls2.head()"
   ]
  },
  {
   "cell_type": "code",
   "execution_count": 277,
   "metadata": {},
   "outputs": [
    {
     "name": "stdout",
     "output_type": "stream",
     "text": [
      "<class 'pandas.core.frame.DataFrame'>\n",
      "RangeIndex: 70 entries, 0 to 69\n",
      "Data columns (total 20 columns):\n",
      " #   Column            Non-Null Count  Dtype  \n",
      "---  ------            --------------  -----  \n",
      " 0   Student Roll Num  70 non-null     int64  \n",
      " 1   Type              30 non-null     object \n",
      " 2   10-01-21          70 non-null     object \n",
      " 3   R-10-01-21        70 non-null     int64  \n",
      " 4   09-01-21          70 non-null     object \n",
      " 5   R-9-01-21         70 non-null     int64  \n",
      " 6   08-01-21          70 non-null     object \n",
      " 7   R-8-01-21         70 non-null     int64  \n",
      " 8   07-01-21          69 non-null     object \n",
      " 9   R-7-01-21         70 non-null     int64  \n",
      " 10  06-01-21          69 non-null     object \n",
      " 11  R-6-01-21         70 non-null     int64  \n",
      " 12  05-01-21          69 non-null     object \n",
      " 13  R-5-01-21         70 non-null     int64  \n",
      " 14  04-01-21          69 non-null     object \n",
      " 15  R-4-01-21         70 non-null     int64  \n",
      " 16  03-01-21          67 non-null     object \n",
      " 17  R-3-01-21         70 non-null     int64  \n",
      " 18  01-01-21          0 non-null      float64\n",
      " 19  R-01-01-21        0 non-null      float64\n",
      "dtypes: float64(2), int64(9), object(9)\n",
      "memory usage: 11.1+ KB\n"
     ]
    }
   ],
   "source": [
    "cls2.info()"
   ]
  },
  {
   "cell_type": "code",
   "execution_count": 278,
   "metadata": {},
   "outputs": [
    {
     "data": {
      "text/html": [
       "<div>\n",
       "<style scoped>\n",
       "    .dataframe tbody tr th:only-of-type {\n",
       "        vertical-align: middle;\n",
       "    }\n",
       "\n",
       "    .dataframe tbody tr th {\n",
       "        vertical-align: top;\n",
       "    }\n",
       "\n",
       "    .dataframe thead th {\n",
       "        text-align: right;\n",
       "    }\n",
       "</style>\n",
       "<table border=\"1\" class=\"dataframe\">\n",
       "  <thead>\n",
       "    <tr style=\"text-align: right;\">\n",
       "      <th></th>\n",
       "      <th>Student Roll Num</th>\n",
       "      <th>R-10-01-21</th>\n",
       "      <th>R-9-01-21</th>\n",
       "      <th>R-8-01-21</th>\n",
       "      <th>R-7-01-21</th>\n",
       "      <th>R-6-01-21</th>\n",
       "      <th>R-5-01-21</th>\n",
       "      <th>R-4-01-21</th>\n",
       "      <th>R-3-01-21</th>\n",
       "      <th>01-01-21</th>\n",
       "      <th>R-01-01-21</th>\n",
       "    </tr>\n",
       "  </thead>\n",
       "  <tbody>\n",
       "    <tr>\n",
       "      <th>count</th>\n",
       "      <td>70.000000</td>\n",
       "      <td>70.000000</td>\n",
       "      <td>70.000000</td>\n",
       "      <td>70.000000</td>\n",
       "      <td>70.000000</td>\n",
       "      <td>70.000000</td>\n",
       "      <td>70.000000</td>\n",
       "      <td>70.000000</td>\n",
       "      <td>70.000000</td>\n",
       "      <td>0.0</td>\n",
       "      <td>0.0</td>\n",
       "    </tr>\n",
       "    <tr>\n",
       "      <th>mean</th>\n",
       "      <td>35.500000</td>\n",
       "      <td>7.657143</td>\n",
       "      <td>7.328571</td>\n",
       "      <td>7.642857</td>\n",
       "      <td>7.614286</td>\n",
       "      <td>7.185714</td>\n",
       "      <td>7.400000</td>\n",
       "      <td>7.328571</td>\n",
       "      <td>7.442857</td>\n",
       "      <td>NaN</td>\n",
       "      <td>NaN</td>\n",
       "    </tr>\n",
       "    <tr>\n",
       "      <th>std</th>\n",
       "      <td>20.351085</td>\n",
       "      <td>1.684419</td>\n",
       "      <td>1.750540</td>\n",
       "      <td>1.606470</td>\n",
       "      <td>1.696483</td>\n",
       "      <td>1.755264</td>\n",
       "      <td>1.722822</td>\n",
       "      <td>1.775203</td>\n",
       "      <td>1.798838</td>\n",
       "      <td>NaN</td>\n",
       "      <td>NaN</td>\n",
       "    </tr>\n",
       "    <tr>\n",
       "      <th>min</th>\n",
       "      <td>1.000000</td>\n",
       "      <td>5.000000</td>\n",
       "      <td>5.000000</td>\n",
       "      <td>5.000000</td>\n",
       "      <td>5.000000</td>\n",
       "      <td>5.000000</td>\n",
       "      <td>5.000000</td>\n",
       "      <td>5.000000</td>\n",
       "      <td>5.000000</td>\n",
       "      <td>NaN</td>\n",
       "      <td>NaN</td>\n",
       "    </tr>\n",
       "    <tr>\n",
       "      <th>25%</th>\n",
       "      <td>18.250000</td>\n",
       "      <td>6.000000</td>\n",
       "      <td>6.000000</td>\n",
       "      <td>6.000000</td>\n",
       "      <td>6.000000</td>\n",
       "      <td>6.000000</td>\n",
       "      <td>6.000000</td>\n",
       "      <td>6.000000</td>\n",
       "      <td>6.000000</td>\n",
       "      <td>NaN</td>\n",
       "      <td>NaN</td>\n",
       "    </tr>\n",
       "    <tr>\n",
       "      <th>50%</th>\n",
       "      <td>35.500000</td>\n",
       "      <td>8.000000</td>\n",
       "      <td>7.000000</td>\n",
       "      <td>8.000000</td>\n",
       "      <td>8.000000</td>\n",
       "      <td>7.000000</td>\n",
       "      <td>7.000000</td>\n",
       "      <td>7.000000</td>\n",
       "      <td>7.000000</td>\n",
       "      <td>NaN</td>\n",
       "      <td>NaN</td>\n",
       "    </tr>\n",
       "    <tr>\n",
       "      <th>75%</th>\n",
       "      <td>52.750000</td>\n",
       "      <td>9.000000</td>\n",
       "      <td>9.000000</td>\n",
       "      <td>9.000000</td>\n",
       "      <td>9.000000</td>\n",
       "      <td>9.000000</td>\n",
       "      <td>9.000000</td>\n",
       "      <td>9.000000</td>\n",
       "      <td>9.000000</td>\n",
       "      <td>NaN</td>\n",
       "      <td>NaN</td>\n",
       "    </tr>\n",
       "    <tr>\n",
       "      <th>max</th>\n",
       "      <td>70.000000</td>\n",
       "      <td>10.000000</td>\n",
       "      <td>10.000000</td>\n",
       "      <td>10.000000</td>\n",
       "      <td>10.000000</td>\n",
       "      <td>10.000000</td>\n",
       "      <td>10.000000</td>\n",
       "      <td>10.000000</td>\n",
       "      <td>10.000000</td>\n",
       "      <td>NaN</td>\n",
       "      <td>NaN</td>\n",
       "    </tr>\n",
       "  </tbody>\n",
       "</table>\n",
       "</div>"
      ],
      "text/plain": [
       "       Student Roll Num  R-10-01-21  R-9-01-21  R-8-01-21  R-7-01-21  \\\n",
       "count         70.000000   70.000000  70.000000  70.000000  70.000000   \n",
       "mean          35.500000    7.657143   7.328571   7.642857   7.614286   \n",
       "std           20.351085    1.684419   1.750540   1.606470   1.696483   \n",
       "min            1.000000    5.000000   5.000000   5.000000   5.000000   \n",
       "25%           18.250000    6.000000   6.000000   6.000000   6.000000   \n",
       "50%           35.500000    8.000000   7.000000   8.000000   8.000000   \n",
       "75%           52.750000    9.000000   9.000000   9.000000   9.000000   \n",
       "max           70.000000   10.000000  10.000000  10.000000  10.000000   \n",
       "\n",
       "       R-6-01-21  R-5-01-21  R-4-01-21  R-3-01-21  01-01-21  R-01-01-21  \n",
       "count  70.000000  70.000000  70.000000  70.000000       0.0         0.0  \n",
       "mean    7.185714   7.400000   7.328571   7.442857       NaN         NaN  \n",
       "std     1.755264   1.722822   1.775203   1.798838       NaN         NaN  \n",
       "min     5.000000   5.000000   5.000000   5.000000       NaN         NaN  \n",
       "25%     6.000000   6.000000   6.000000   6.000000       NaN         NaN  \n",
       "50%     7.000000   7.000000   7.000000   7.000000       NaN         NaN  \n",
       "75%     9.000000   9.000000   9.000000   9.000000       NaN         NaN  \n",
       "max    10.000000  10.000000  10.000000  10.000000       NaN         NaN  "
      ]
     },
     "execution_count": 278,
     "metadata": {},
     "output_type": "execute_result"
    }
   ],
   "source": [
    "cls2.describe()"
   ]
  },
  {
   "cell_type": "code",
   "execution_count": 279,
   "metadata": {},
   "outputs": [
    {
     "data": {
      "text/plain": [
       "R-01-01-21    70\n",
       "01-01-21      70\n",
       "Type          40\n",
       "03-01-21       3\n",
       "07-01-21       1\n",
       "04-01-21       1\n",
       "05-01-21       1\n",
       "06-01-21       1\n",
       "R-8-01-21      0\n",
       "R-7-01-21      0\n",
       "dtype: int64"
      ]
     },
     "execution_count": 279,
     "metadata": {},
     "output_type": "execute_result"
    }
   ],
   "source": [
    "cls2.isnull().sum().sort_values(ascending=False).head(10)"
   ]
  },
  {
   "cell_type": "code",
   "execution_count": 280,
   "metadata": {},
   "outputs": [],
   "source": [
    "cls2['03-01-21'].fillna(cls2['03-01-21'].mode()[0], inplace=True)"
   ]
  },
  {
   "cell_type": "code",
   "execution_count": 281,
   "metadata": {},
   "outputs": [],
   "source": [
    "cls2['04-01-21'].fillna(cls2['04-01-21'].mode()[0], inplace=True)\n",
    "cls2['05-01-21'].fillna(cls2['05-01-21'].mode()[0], inplace=True)\n",
    "cls2['06-01-21'].fillna(cls2['06-01-21'].mode()[0], inplace=True)\n",
    "cls2['07-01-21'].fillna(cls2['07-01-21'].mode()[0], inplace=True)"
   ]
  },
  {
   "cell_type": "code",
   "execution_count": 282,
   "metadata": {},
   "outputs": [],
   "source": [
    "cls2['Type'].fillna(cls2['Type'].mode()[0], inplace=True)"
   ]
  },
  {
   "cell_type": "code",
   "execution_count": 283,
   "metadata": {},
   "outputs": [
    {
     "data": {
      "text/plain": [
       "R-01-01-21    70\n",
       "01-01-21      70\n",
       "Type           0\n",
       "R-3-01-21      0\n",
       "03-01-21       0\n",
       "R-4-01-21      0\n",
       "04-01-21       0\n",
       "R-5-01-21      0\n",
       "05-01-21       0\n",
       "R-6-01-21      0\n",
       "dtype: int64"
      ]
     },
     "execution_count": 283,
     "metadata": {},
     "output_type": "execute_result"
    }
   ],
   "source": [
    "cls2.isnull().sum().sort_values(ascending=False).head(10)"
   ]
  },
  {
   "attachments": {},
   "cell_type": "markdown",
   "metadata": {},
   "source": [
    "### Let's Merge files now"
   ]
  },
  {
   "cell_type": "code",
   "execution_count": 284,
   "metadata": {},
   "outputs": [
    {
     "data": {
      "text/plain": [
       "Index(['Student Roll Num', 'Type', '10-01-21', 'R-10-01-21', '09-01-21',\n",
       "       'R-9-01-21', '08-01-21', 'R-8-01-21', '07-01-21', 'R-7-01-21',\n",
       "       '06-01-21', 'R-6-01-21', '05-01-21', 'R-5-01-21', '04-01-21',\n",
       "       'R-4-01-21', '03-01-21', 'R-3-01-21', '02-01-21', 'R-02-01-21',\n",
       "       '01-01-21', 'R-01-01-21'],\n",
       "      dtype='object')"
      ]
     },
     "execution_count": 284,
     "metadata": {},
     "output_type": "execute_result"
    }
   ],
   "source": [
    "cls1.columns"
   ]
  },
  {
   "cell_type": "code",
   "execution_count": 285,
   "metadata": {},
   "outputs": [],
   "source": [
    "df = pd.concat([cls1, cls2])"
   ]
  },
  {
   "cell_type": "code",
   "execution_count": 286,
   "metadata": {},
   "outputs": [
    {
     "data": {
      "text/plain": [
       "Index(['Student Roll Num', 'Type', '10-01-21', 'R-10-01-21', '09-01-21',\n",
       "       'R-9-01-21', '08-01-21', 'R-8-01-21', '07-01-21', 'R-7-01-21',\n",
       "       '06-01-21', 'R-6-01-21', '05-01-21', 'R-5-01-21', '04-01-21',\n",
       "       'R-4-01-21', '03-01-21', 'R-3-01-21', '02-01-21', 'R-02-01-21',\n",
       "       '01-01-21', 'R-01-01-21'],\n",
       "      dtype='object')"
      ]
     },
     "execution_count": 286,
     "metadata": {},
     "output_type": "execute_result"
    }
   ],
   "source": [
    "df.columns"
   ]
  },
  {
   "cell_type": "code",
   "execution_count": 287,
   "metadata": {},
   "outputs": [
    {
     "data": {
      "text/plain": [
       "(127, 22)"
      ]
     },
     "execution_count": 287,
     "metadata": {},
     "output_type": "execute_result"
    }
   ],
   "source": [
    "df.shape"
   ]
  },
  {
   "cell_type": "code",
   "execution_count": 288,
   "metadata": {},
   "outputs": [],
   "source": [
    "df.fillna(0,inplace=True)"
   ]
  },
  {
   "cell_type": "code",
   "execution_count": 289,
   "metadata": {},
   "outputs": [
    {
     "data": {
      "text/plain": [
       "Student Roll Num    0\n",
       "Type                0\n",
       "10-01-21            0\n",
       "R-10-01-21          0\n",
       "09-01-21            0\n",
       "R-9-01-21           0\n",
       "08-01-21            0\n",
       "R-8-01-21           0\n",
       "07-01-21            0\n",
       "R-7-01-21           0\n",
       "06-01-21            0\n",
       "R-6-01-21           0\n",
       "05-01-21            0\n",
       "R-5-01-21           0\n",
       "04-01-21            0\n",
       "R-4-01-21           0\n",
       "03-01-21            0\n",
       "R-3-01-21           0\n",
       "02-01-21            0\n",
       "R-02-01-21          0\n",
       "01-01-21            0\n",
       "R-01-01-21          0\n",
       "dtype: int64"
      ]
     },
     "execution_count": 289,
     "metadata": {},
     "output_type": "execute_result"
    }
   ],
   "source": [
    "df.isna().sum()"
   ]
  },
  {
   "attachments": {},
   "cell_type": "markdown",
   "metadata": {},
   "source": [
    "### Visualization Part"
   ]
  },
  {
   "cell_type": "code",
   "execution_count": 290,
   "metadata": {},
   "outputs": [],
   "source": [
    "# Calculate the attendance count and missed count for each type\n",
    "\n",
    "df['Attended_Count'] = df[df == 'Attended'].count(axis=1)\n",
    "df['Missed_Count'] = df[df == 'Missed'].count(axis=1)"
   ]
  },
  {
   "cell_type": "code",
   "execution_count": 291,
   "metadata": {},
   "outputs": [],
   "source": [
    "# Calculate the total sessions for each type\n",
    "df['Total_Sessions'] = df[['Attended_Count', 'Missed_Count']].sum(axis=1)"
   ]
  },
  {
   "cell_type": "code",
   "execution_count": 292,
   "metadata": {},
   "outputs": [],
   "source": [
    "# Calculate the attendance percentage and missed percentage for each type\n",
    "df['Attended_Percentage'] = (df['Attended_Count'] / df['Total_Sessions']) * 100\n",
    "df['Missed_Percentage'] = (df['Missed_Count'] / df['Total_Sessions']) * 100"
   ]
  },
  {
   "cell_type": "code",
   "execution_count": 293,
   "metadata": {},
   "outputs": [
    {
     "data": {
      "text/html": [
       "<div>\n",
       "<style scoped>\n",
       "    .dataframe tbody tr th:only-of-type {\n",
       "        vertical-align: middle;\n",
       "    }\n",
       "\n",
       "    .dataframe tbody tr th {\n",
       "        vertical-align: top;\n",
       "    }\n",
       "\n",
       "    .dataframe thead th {\n",
       "        text-align: right;\n",
       "    }\n",
       "</style>\n",
       "<table border=\"1\" class=\"dataframe\">\n",
       "  <thead>\n",
       "    <tr style=\"text-align: right;\">\n",
       "      <th></th>\n",
       "      <th>Student Roll Num</th>\n",
       "      <th>Type</th>\n",
       "      <th>10-01-21</th>\n",
       "      <th>R-10-01-21</th>\n",
       "      <th>09-01-21</th>\n",
       "      <th>R-9-01-21</th>\n",
       "      <th>08-01-21</th>\n",
       "      <th>R-8-01-21</th>\n",
       "      <th>07-01-21</th>\n",
       "      <th>R-7-01-21</th>\n",
       "      <th>...</th>\n",
       "      <th>R-3-01-21</th>\n",
       "      <th>02-01-21</th>\n",
       "      <th>R-02-01-21</th>\n",
       "      <th>01-01-21</th>\n",
       "      <th>R-01-01-21</th>\n",
       "      <th>Attended_Count</th>\n",
       "      <th>Missed_Count</th>\n",
       "      <th>Total_Sessions</th>\n",
       "      <th>Attended_Percentage</th>\n",
       "      <th>Missed_Percentage</th>\n",
       "    </tr>\n",
       "  </thead>\n",
       "  <tbody>\n",
       "    <tr>\n",
       "      <th>0</th>\n",
       "      <td>1</td>\n",
       "      <td>WORKING</td>\n",
       "      <td>Missed</td>\n",
       "      <td>10</td>\n",
       "      <td>Missed</td>\n",
       "      <td>10</td>\n",
       "      <td>Missed</td>\n",
       "      <td>10</td>\n",
       "      <td>Missed</td>\n",
       "      <td>5</td>\n",
       "      <td>...</td>\n",
       "      <td>7</td>\n",
       "      <td>Missed</td>\n",
       "      <td>5.0</td>\n",
       "      <td>Missed</td>\n",
       "      <td>8.0</td>\n",
       "      <td>0</td>\n",
       "      <td>10</td>\n",
       "      <td>10</td>\n",
       "      <td>0.0</td>\n",
       "      <td>100.0</td>\n",
       "    </tr>\n",
       "    <tr>\n",
       "      <th>1</th>\n",
       "      <td>2</td>\n",
       "      <td>STUDENT</td>\n",
       "      <td>Missed</td>\n",
       "      <td>10</td>\n",
       "      <td>Missed</td>\n",
       "      <td>6</td>\n",
       "      <td>Missed</td>\n",
       "      <td>6</td>\n",
       "      <td>Attended</td>\n",
       "      <td>6</td>\n",
       "      <td>...</td>\n",
       "      <td>7</td>\n",
       "      <td>Attended</td>\n",
       "      <td>9.0</td>\n",
       "      <td>Missed</td>\n",
       "      <td>10.0</td>\n",
       "      <td>4</td>\n",
       "      <td>6</td>\n",
       "      <td>10</td>\n",
       "      <td>40.0</td>\n",
       "      <td>60.0</td>\n",
       "    </tr>\n",
       "    <tr>\n",
       "      <th>2</th>\n",
       "      <td>3</td>\n",
       "      <td>STUDENT</td>\n",
       "      <td>Missed</td>\n",
       "      <td>6</td>\n",
       "      <td>Missed</td>\n",
       "      <td>10</td>\n",
       "      <td>Missed</td>\n",
       "      <td>5</td>\n",
       "      <td>Missed</td>\n",
       "      <td>7</td>\n",
       "      <td>...</td>\n",
       "      <td>10</td>\n",
       "      <td>Attended</td>\n",
       "      <td>7.0</td>\n",
       "      <td>Attended</td>\n",
       "      <td>10.0</td>\n",
       "      <td>4</td>\n",
       "      <td>6</td>\n",
       "      <td>10</td>\n",
       "      <td>40.0</td>\n",
       "      <td>60.0</td>\n",
       "    </tr>\n",
       "    <tr>\n",
       "      <th>3</th>\n",
       "      <td>4</td>\n",
       "      <td>STUDENT</td>\n",
       "      <td>Missed</td>\n",
       "      <td>5</td>\n",
       "      <td>Missed</td>\n",
       "      <td>5</td>\n",
       "      <td>Attended</td>\n",
       "      <td>7</td>\n",
       "      <td>Missed</td>\n",
       "      <td>9</td>\n",
       "      <td>...</td>\n",
       "      <td>8</td>\n",
       "      <td>Attended</td>\n",
       "      <td>8.0</td>\n",
       "      <td>Attended</td>\n",
       "      <td>10.0</td>\n",
       "      <td>5</td>\n",
       "      <td>5</td>\n",
       "      <td>10</td>\n",
       "      <td>50.0</td>\n",
       "      <td>50.0</td>\n",
       "    </tr>\n",
       "    <tr>\n",
       "      <th>4</th>\n",
       "      <td>5</td>\n",
       "      <td>WORKING</td>\n",
       "      <td>Missed</td>\n",
       "      <td>8</td>\n",
       "      <td>Missed</td>\n",
       "      <td>5</td>\n",
       "      <td>Missed</td>\n",
       "      <td>10</td>\n",
       "      <td>Missed</td>\n",
       "      <td>6</td>\n",
       "      <td>...</td>\n",
       "      <td>10</td>\n",
       "      <td>Missed</td>\n",
       "      <td>5.0</td>\n",
       "      <td>Missed</td>\n",
       "      <td>10.0</td>\n",
       "      <td>0</td>\n",
       "      <td>10</td>\n",
       "      <td>10</td>\n",
       "      <td>0.0</td>\n",
       "      <td>100.0</td>\n",
       "    </tr>\n",
       "  </tbody>\n",
       "</table>\n",
       "<p>5 rows × 27 columns</p>\n",
       "</div>"
      ],
      "text/plain": [
       "   Student Roll Num     Type 10-01-21  R-10-01-21 09-01-21  R-9-01-21  \\\n",
       "0                 1  WORKING   Missed          10   Missed         10   \n",
       "1                 2  STUDENT   Missed          10   Missed          6   \n",
       "2                 3  STUDENT   Missed           6   Missed         10   \n",
       "3                 4  STUDENT   Missed           5   Missed          5   \n",
       "4                 5  WORKING   Missed           8   Missed          5   \n",
       "\n",
       "   08-01-21  R-8-01-21  07-01-21  R-7-01-21  ... R-3-01-21  02-01-21  \\\n",
       "0    Missed         10    Missed          5  ...         7    Missed   \n",
       "1    Missed          6  Attended          6  ...         7  Attended   \n",
       "2    Missed          5    Missed          7  ...        10  Attended   \n",
       "3  Attended          7    Missed          9  ...         8  Attended   \n",
       "4    Missed         10    Missed          6  ...        10    Missed   \n",
       "\n",
       "  R-02-01-21  01-01-21 R-01-01-21  Attended_Count Missed_Count  \\\n",
       "0        5.0    Missed        8.0               0           10   \n",
       "1        9.0    Missed       10.0               4            6   \n",
       "2        7.0  Attended       10.0               4            6   \n",
       "3        8.0  Attended       10.0               5            5   \n",
       "4        5.0    Missed       10.0               0           10   \n",
       "\n",
       "   Total_Sessions Attended_Percentage  Missed_Percentage  \n",
       "0              10                 0.0              100.0  \n",
       "1              10                40.0               60.0  \n",
       "2              10                40.0               60.0  \n",
       "3              10                50.0               50.0  \n",
       "4              10                 0.0              100.0  \n",
       "\n",
       "[5 rows x 27 columns]"
      ]
     },
     "execution_count": 293,
     "metadata": {},
     "output_type": "execute_result"
    }
   ],
   "source": [
    "df.head()"
   ]
  },
  {
   "cell_type": "code",
   "execution_count": 294,
   "metadata": {},
   "outputs": [],
   "source": [
    "student_data = df[df['Type'] == 'STUDENT']\n",
    "working_data = df[df['Type'] == 'WORKING']\n",
    "ignore_data = df[df['Type'] == 'IGNORE']\n",
    "dropout_data = df[df['Type'] == 'DROPOUT']\n",
    "\n",
    "# Prepare data for plotting\n",
    "types = ['Student', 'Working', 'IGNORE', 'Dropout']\n",
    "attended_percentage = [\n",
    "    student_data['Attended_Percentage'].mean(),\n",
    "    working_data['Attended_Percentage'].mean(),\n",
    "    ignore_data['Attended_Percentage'].mean(),\n",
    "    dropout_data['Attended_Percentage'].mean()\n",
    "]\n",
    "\n",
    "missed_percentage = [\n",
    "    student_data['Missed_Percentage'].mean(),\n",
    "    working_data['Missed_Percentage'].mean(),\n",
    "    ignore_data['Missed_Percentage'].mean(),\n",
    "    dropout_data['Missed_Percentage'].mean()\n",
    "]"
   ]
  },
  {
   "cell_type": "code",
   "execution_count": 295,
   "metadata": {},
   "outputs": [],
   "source": [
    "# Set the width of each bar\n",
    "bar_width = 0.3\n",
    "\n",
    "# Set the positions of the bars on the x-axis\n",
    "r1 = range(len(types))\n",
    "r2 = [x + bar_width for x in r1]"
   ]
  },
  {
   "cell_type": "code",
   "execution_count": 296,
   "metadata": {},
   "outputs": [
    {
     "data": {
      "image/png": "[encoded data removed]",
      "text/plain": [
       "<Figure size 1080x432 with 1 Axes>"
      ]
     },
     "metadata": {
      "needs_background": "light"
     },
     "output_type": "display_data"
    }
   ],
   "source": [
    "# Create the bar plot\n",
    "plt.figure(figsize=(15, 6))\n",
    "plt.bar(r1, attended_percentage, color='#F6FA70', width=bar_width, edgecolor='white', label='Attended')\n",
    "plt.bar(r2, missed_percentage, color='#FF0060', width=bar_width, edgecolor='white', label='Missed')\n",
    "\n",
    "# Add labels, title, and legend\n",
    "plt.xlabel('Type')\n",
    "plt.ylabel('Percentage')\n",
    "plt.title('Attendance Percentage by Type')\n",
    "plt.xticks([r + bar_width/2 for r in range(len(types))], types)\n",
    "plt.legend()\n",
    "# Show the plot\n",
    "plt.show()"
   ]
  },
  {
   "attachments": {},
   "cell_type": "markdown",
   "metadata": {},
   "source": [
    "1. Students are almost equally attending and missing the classes need more focus on students.\n",
    "2. From above polt we can observe that Ignore, Dropout, Students are missing the sessions.\n",
    "3. Also Need to find the problem why ignore people are not attending calsses.\n",
    "4. Apart from Dropout and Ignore, student and Working are attending classes more."
   ]
  },
  {
   "cell_type": "code",
   "execution_count": 297,
   "metadata": {},
   "outputs": [],
   "source": [
    "student_ratings = df[df['Type'] == 'STUDENT'][['R-10-01-21', 'R-9-01-21', 'R-8-01-21', 'R-7-01-21', 'R-6-01-21', 'R-5-01-21', 'R-4-01-21', 'R-3-01-21', 'R-02-01-21', 'R-01-01-21']]\n",
    "working_ratings = df[df['Type'] == 'WORKING'][['R-10-01-21', 'R-9-01-21', 'R-8-01-21', 'R-7-01-21', 'R-6-01-21', 'R-5-01-21', 'R-4-01-21', 'R-3-01-21', 'R-02-01-21', 'R-01-01-21']]\n",
    "ignore_ratings = df[df['Type'] == 'IGNORE'][['R-10-01-21', 'R-9-01-21', 'R-8-01-21', 'R-7-01-21', 'R-6-01-21', 'R-5-01-21', 'R-4-01-21', 'R-3-01-21', 'R-02-01-21', 'R-01-01-21']]\n",
    "dropout_ratings = df[df['Type'] == 'DROPOUT'][['R-10-01-21', 'R-9-01-21', 'R-8-01-21', 'R-7-01-21', 'R-6-01-21', 'R-5-01-21', 'R-4-01-21', 'R-3-01-21', 'R-02-01-21', 'R-01-01-21']]\n",
    "\n",
    "student_ratings = student_ratings.values.flatten()\n",
    "working_ratings = working_ratings.values.flatten()\n",
    "ignore_ratings = ignore_ratings.values.flatten()\n",
    "dropout_ratings = dropout_ratings.values.flatten()"
   ]
  },
  {
   "cell_type": "code",
   "execution_count": 298,
   "metadata": {},
   "outputs": [],
   "source": [
    "ratings = np.concatenate([student_ratings, working_ratings, ignore_ratings, dropout_ratings])\n",
    "types = ['STUDENT'] * len(student_ratings) + ['WORKING'] * len(working_ratings) + ['IGNORE'] * len(ignore_ratings) + ['DROPOUT'] * len(dropout_ratings)\n",
    "df_ratings = pd.DataFrame({'Rating': ratings, 'Type': types})\n",
    "\n",
    "\n",
    "filtered_ratings = df_ratings[(df_ratings['Rating'] >= 5) & (df_ratings['Rating'] <= 7)]"
   ]
  },
  {
   "cell_type": "code",
   "execution_count": 299,
   "metadata": {},
   "outputs": [
    {
     "data": {
      "image/png": "[encoded data removed]",
      "text/plain": [
       "<Figure size 720x432 with 1 Axes>"
      ]
     },
     "metadata": {
      "needs_background": "light"
     },
     "output_type": "display_data"
    }
   ],
   "source": [
    "# Count the occurrences of each rating for each type\n",
    "rating_counts = filtered_ratings.groupby(['Type', 'Rating']).size().reset_index(name='Count')\n",
    "\n",
    "# Plot the multiple bar plot\n",
    "plt.figure(figsize=(10, 6))\n",
    "sns.barplot(x='Type', y='Count', hue='Rating', data=rating_counts, palette='rainbow_r')\n",
    "\n",
    "plt.xlabel('Type')\n",
    "plt.ylabel('Count')\n",
    "plt.title('Count of Ratings (5-7) by Type')\n",
    "\n",
    "plt.legend(title='Rating')\n",
    "plt.tight_layout()\n",
    "plt.show()"
   ]
  },
  {
   "attachments": {},
   "cell_type": "markdown",
   "metadata": {},
   "source": [
    "**Highly unsatisfied people are working people.**\n",
    "1. Above image shows that very Low rating(5) was given by working people.\n",
    "2. Above plot shows the 5-7 range ratings given by type of people.\n",
    "3. This also shows that dropout students are not satisfied because they have given low (5) ratings\n",
    "4. Followed by Students given low ratings."
   ]
  },
  {
   "cell_type": "code",
   "execution_count": 300,
   "metadata": {},
   "outputs": [],
   "source": [
    "# Concatenate the ratings and create a new dataframe\n",
    "ratings = np.concatenate([student_ratings, working_ratings, ignore_ratings, dropout_ratings])\n",
    "types = ['STUDENT'] * len(student_ratings) + ['WORKING'] * len(working_ratings) + ['IGNORE'] * len(ignore_ratings) + ['DROPOUT'] * len(dropout_ratings)\n",
    "df_ratings = pd.DataFrame({'Rating': ratings, 'Type': types})\n"
   ]
  },
  {
   "cell_type": "code",
   "execution_count": 301,
   "metadata": {},
   "outputs": [],
   "source": [
    "# Filter the ratings within the range of 5-7\n",
    "filtered_ratings = df_ratings[(df_ratings['Rating'] >= 8) & (df_ratings['Rating'] <= 10)]\n",
    "\n",
    "# Count the occurrences of each rating for each type\n",
    "rating_counts = filtered_ratings.groupby(['Type', 'Rating']).size().reset_index(name='Count')"
   ]
  },
  {
   "cell_type": "code",
   "execution_count": 302,
   "metadata": {},
   "outputs": [
    {
     "data": {
      "image/png": "[encoded data removed]",
      "text/plain": [
       "<Figure size 720x432 with 1 Axes>"
      ]
     },
     "metadata": {
      "needs_background": "light"
     },
     "output_type": "display_data"
    }
   ],
   "source": [
    "# Plot the multiple bar plot\n",
    "plt.figure(figsize=(10, 6))\n",
    "sns.barplot(x='Type', y='Count', hue='Rating', data=rating_counts, palette='rocket_r')\n",
    "\n",
    "plt.xlabel('Type')\n",
    "plt.ylabel('Count')\n",
    "plt.title('Count of Ratings (8-10) by Type')\n",
    "\n",
    "plt.legend(title='Rating')\n",
    "plt.tight_layout()\n",
    "plt.show()"
   ]
  },
  {
   "attachments": {},
   "cell_type": "markdown",
   "metadata": {},
   "source": [
    "Highly Satisfied people are Students.\n",
    "1. Above plot image shows the ratings range 8-10.\n",
    "2. Highest rating 10 was highly given by students followed by working people."
   ]
  },
  {
   "attachments": {},
   "cell_type": "markdown",
   "metadata": {},
   "source": [
    "### We can check individual class perfomance and ratings\n",
    "\n",
    "\n",
    "**Visualizing the class-1 and class-2 ratings**"
   ]
  },
  {
   "cell_type": "code",
   "execution_count": 303,
   "metadata": {},
   "outputs": [],
   "source": [
    "student_ratings = cls1[cls1['Type'] == 'STUDENT'][['R-10-01-21', 'R-9-01-21', 'R-8-01-21', 'R-7-01-21', 'R-6-01-21', 'R-5-01-21', 'R-4-01-21', 'R-3-01-21', 'R-02-01-21', 'R-01-01-21']]\n",
    "working_ratings = cls1[cls1['Type'] == 'WORKING'][['R-10-01-21', 'R-9-01-21', 'R-8-01-21', 'R-7-01-21', 'R-6-01-21', 'R-5-01-21', 'R-4-01-21', 'R-3-01-21', 'R-02-01-21', 'R-01-01-21']]\n",
    "ignore_ratings = cls1[cls1['Type'] == 'IGNORE'][['R-10-01-21', 'R-9-01-21', 'R-8-01-21', 'R-7-01-21', 'R-6-01-21', 'R-5-01-21', 'R-4-01-21', 'R-3-01-21', 'R-02-01-21', 'R-01-01-21']]\n",
    "dropout_ratings = cls1[cls1['Type'] == 'DROPOUT'][['R-10-01-21', 'R-9-01-21', 'R-8-01-21', 'R-7-01-21', 'R-6-01-21', 'R-5-01-21', 'R-4-01-21', 'R-3-01-21', 'R-02-01-21', 'R-01-01-21']]\n"
   ]
  },
  {
   "cell_type": "code",
   "execution_count": 304,
   "metadata": {},
   "outputs": [],
   "source": [
    "student_ratings = student_ratings.values.flatten()\n",
    "working_ratings = working_ratings.values.flatten()\n",
    "ignore_ratings = ignore_ratings.values.flatten()\n",
    "dropout_ratings = dropout_ratings.values.flatten()"
   ]
  },
  {
   "cell_type": "code",
   "execution_count": 305,
   "metadata": {},
   "outputs": [],
   "source": [
    "ratings = np.concatenate([student_ratings, working_ratings, ignore_ratings, dropout_ratings])\n",
    "types = ['STUDENT'] * len(student_ratings) + ['WORKING'] * len(working_ratings) + ['IGNORE'] * len(ignore_ratings) + ['DROPOUT'] * len(dropout_ratings)\n",
    "df_ratings = pd.DataFrame({'Rating': ratings, 'Type': types})\n",
    "\n",
    "# Filter the ratings within the range of 5-7\n",
    "filtered_ratings = df_ratings[(df_ratings['Rating'] >= 5) & (df_ratings['Rating'] <= 10)]"
   ]
  },
  {
   "cell_type": "code",
   "execution_count": 306,
   "metadata": {},
   "outputs": [
    {
     "data": {
      "image/png": "[encoded data removed]",
      "text/plain": [
       "<Figure size 720x432 with 1 Axes>"
      ]
     },
     "metadata": {
      "needs_background": "light"
     },
     "output_type": "display_data"
    }
   ],
   "source": [
    "# Count the occurrences of each rating for each type\n",
    "rating_counts = filtered_ratings.groupby(['Type', 'Rating']).size().reset_index(name='Count')\n",
    "\n",
    "# Plot the multiple bar plot\n",
    "plt.figure(figsize=(10, 6))\n",
    "sns.barplot(x='Type', y='Count', hue='Rating', data=rating_counts, palette='copper')\n",
    "\n",
    "plt.xlabel('Type')\n",
    "plt.ylabel('Count')\n",
    "plt.title('Count of Ratings (5-10) by Type of Class-1')\n",
    "\n",
    "plt.legend(title='Rating')\n",
    "plt.tight_layout()\n",
    "plt.show()"
   ]
  },
  {
   "cell_type": "code",
   "execution_count": 307,
   "metadata": {},
   "outputs": [
    {
     "data": {
      "text/plain": [
       "0     False\n",
       "1     False\n",
       "2      True\n",
       "3     False\n",
       "4     False\n",
       "      ...  \n",
       "65    False\n",
       "66     True\n",
       "67    False\n",
       "68    False\n",
       "69    False\n",
       "Name: Type, Length: 70, dtype: bool"
      ]
     },
     "execution_count": 307,
     "metadata": {},
     "output_type": "execute_result"
    }
   ],
   "source": [
    "cls2['Type'] == 'STUDENT'"
   ]
  },
  {
   "attachments": {},
   "cell_type": "markdown",
   "metadata": {},
   "source": [
    "1. In class-1 Highest satisfied people are Students and they have given highest 10 rating.\n",
    "2. Also Lowest 5 ratings are highly given by students only followed by working people."
   ]
  },
  {
   "cell_type": "code",
   "execution_count": 308,
   "metadata": {},
   "outputs": [],
   "source": [
    "student_ratings = cls1[cls1['Type'] == 'STUDENT'][['R-10-01-21', 'R-9-01-21', 'R-8-01-21', 'R-7-01-21', 'R-6-01-21', 'R-5-01-21', 'R-4-01-21', 'R-3-01-21', 'R-02-01-21', 'R-01-01-21']]\n",
    "working_ratings = cls1[cls1['Type'] == 'WORKING'][['R-10-01-21', 'R-9-01-21', 'R-8-01-21', 'R-7-01-21', 'R-6-01-21', 'R-5-01-21', 'R-4-01-21', 'R-3-01-21', 'R-02-01-21', 'R-01-01-21']]\n",
    "ignore_ratings = cls1[cls1['Type'] == 'IGNORE'][['R-10-01-21', 'R-9-01-21', 'R-8-01-21', 'R-7-01-21', 'R-6-01-21', 'R-5-01-21', 'R-4-01-21', 'R-3-01-21', 'R-02-01-21', 'R-01-01-21']]\n",
    "dropout_ratings = cls1[cls1['Type'] == 'DROPOUT'][['R-10-01-21', 'R-9-01-21', 'R-8-01-21', 'R-7-01-21', 'R-6-01-21', 'R-5-01-21', 'R-4-01-21', 'R-3-01-21', 'R-02-01-21', 'R-01-01-21']]"
   ]
  },
  {
   "cell_type": "code",
   "execution_count": 309,
   "metadata": {},
   "outputs": [],
   "source": [
    "student_ratings = student_ratings.values.flatten()\n",
    "working_ratings = working_ratings.values.flatten()\n",
    "ignore_ratings = ignore_ratings.values.flatten()\n",
    "dropout_ratings = dropout_ratings.values.flatten()"
   ]
  },
  {
   "cell_type": "code",
   "execution_count": 310,
   "metadata": {},
   "outputs": [],
   "source": [
    "ratings = np.concatenate([student_ratings, working_ratings, ignore_ratings, dropout_ratings])\n",
    "types = ['STUDENT'] * len(student_ratings) + ['WORKING'] * len(working_ratings) + ['IGNORE'] * len(ignore_ratings) + ['DROPOUT'] * len(dropout_ratings)\n",
    "df_ratings = pd.DataFrame({'Rating': ratings, 'Type': types})\n",
    "\n",
    "# Filter the ratings within the range of 5-7\n",
    "filtered_ratings = df_ratings[(df_ratings['Rating'] >= 5) & (df_ratings['Rating'] <= 10)]\n",
    "\n",
    "# Count the occurrences of each rating for each type\n",
    "rating_counts = filtered_ratings.groupby(['Type', 'Rating']).size().reset_index(name='Count')"
   ]
  },
  {
   "cell_type": "code",
   "execution_count": 322,
   "metadata": {},
   "outputs": [
    {
     "data": {
      "image/png": "[encoded data removed]",
      "text/plain": [
       "<Figure size 720x432 with 1 Axes>"
      ]
     },
     "metadata": {
      "needs_background": "light"
     },
     "output_type": "display_data"
    }
   ],
   "source": [
    "# Plot the multiple bar plot\n",
    "plt.figure(figsize=(10, 6))\n",
    "sns.barplot(x='Type', y='Count', hue='Rating', data=rating_counts, palette='icefire_r')\n",
    "\n",
    "plt.xlabel('Type')\n",
    "plt.ylabel('Count')\n",
    "plt.title('Count of Ratings (5-10) by Type of Class-2')\n",
    "\n",
    "plt.legend(title='Rating')\n",
    "plt.tight_layout()\n",
    "plt.show()"
   ]
  },
  {
   "attachments": {},
   "cell_type": "markdown",
   "metadata": {},
   "source": [
    "1. In class-2 Working people are high but they are unsatisfied due to they have given high 5 ratings.\n",
    "2. High 10 ratings are also given by woorking people only.\n",
    "3. But students in class-2 also unsatisfied because they have given high 7 ratings."
   ]
  },
  {
   "attachments": {},
   "cell_type": "markdown",
   "metadata": {},
   "source": [
    "Conclusion:\n",
    "1. In both classes we have seen mixed ratings.\n",
    "2. In class-1 highest people are students and in class-2 highest people are working."
   ]
  },
  {
   "cell_type": "code",
   "execution_count": 312,
   "metadata": {},
   "outputs": [],
   "source": [
    "# Calculate the attendance count and missed count for each type\n",
    "cls1['Attended_Count'] = cls1[cls1 == 'Attended'].count(axis=1)\n",
    "cls1['Missed_Count'] = cls1[cls1 == 'Missed'].count(axis=1)\n",
    "\n",
    "# Calculate the total sessions for each type\n",
    "cls1['Total_Sessions'] = cls1[['Attended_Count', 'Missed_Count']].sum(axis=1)\n"
   ]
  },
  {
   "cell_type": "code",
   "execution_count": 313,
   "metadata": {},
   "outputs": [],
   "source": [
    "# Calculate the attendance percentage and missed percentage for each type\n",
    "cls1['Attended_Percentage'] = (cls1['Attended_Count'] / cls1['Total_Sessions']) * 100\n",
    "cls1['Missed_Percentage'] = (cls1['Missed_Count'] / cls1['Total_Sessions']) * 100"
   ]
  },
  {
   "cell_type": "code",
   "execution_count": 314,
   "metadata": {},
   "outputs": [],
   "source": [
    "student_data = cls1[cls1['Type'] == 'STUDENT']\n",
    "working_data = cls1[cls1['Type'] == 'WORKING']\n",
    "ignore_data = cls1[cls1['Type'] == 'IGNORE']\n",
    "dropout_data = cls1[cls1['Type'] == 'DROPOUT']"
   ]
  },
  {
   "cell_type": "code",
   "execution_count": 315,
   "metadata": {},
   "outputs": [],
   "source": [
    "types = ['Student', 'Working', 'IGNORE', 'Dropout']\n",
    "attended_percentage = [\n",
    "    student_data['Attended_Percentage'].mean(),\n",
    "    working_data['Attended_Percentage'].mean(),\n",
    "    ignore_data['Attended_Percentage'].mean(),\n",
    "    dropout_data['Attended_Percentage'].mean()\n",
    "]\n",
    "\n",
    "missed_percentage = [\n",
    "    student_data['Missed_Percentage'].mean(),\n",
    "    working_data['Missed_Percentage'].mean(),\n",
    "    ignore_data['Missed_Percentage'].mean(),\n",
    "    dropout_data['Missed_Percentage'].mean()\n",
    "]"
   ]
  },
  {
   "cell_type": "code",
   "execution_count": 316,
   "metadata": {},
   "outputs": [],
   "source": [
    "bar_width = 0.35\n",
    "\n",
    "# Set the positions of the bars on the x-axis\n",
    "r1 = range(len(types))\n",
    "r2 = [x + bar_width for x in r1]"
   ]
  },
  {
   "cell_type": "code",
   "execution_count": 317,
   "metadata": {},
   "outputs": [
    {
     "data": {
      "image/png": "[encoded data removed]",
      "text/plain": [
       "<Figure size 1080x432 with 1 Axes>"
      ]
     },
     "metadata": {
      "needs_background": "light"
     },
     "output_type": "display_data"
    }
   ],
   "source": [
    "plt.figure(figsize=(15, 6))\n",
    "plt.bar(r1, attended_percentage, color='#482121', width=bar_width, edgecolor='white', label='Attended')\n",
    "plt.bar(r2, missed_percentage, color='#7A3E3E', width=bar_width, edgecolor='white', label='Missed')\n",
    "\n",
    "plt.xlabel('Type')\n",
    "plt.ylabel('Percentage')\n",
    "plt.title('Attendance Percentage by Type')\n",
    "plt.xticks([r + bar_width/2 for r in range(len(types))], types)\n",
    "plt.legend()\n",
    "plt.show()"
   ]
  },
  {
   "cell_type": "code",
   "execution_count": 318,
   "metadata": {},
   "outputs": [],
   "source": [
    "# Calculate the attendance count and missed count for each type\n",
    "cls2['Attended_Count'] = cls2[cls2 == 'Attended'].count(axis=1)\n",
    "cls2['Missed_Count'] = cls2[cls2 == 'Missed'].count(axis=1)\n",
    "\n",
    "# Calculate the total sessions for each type\n",
    "cls2['Total_Sessions'] = cls2[['Attended_Count', 'Missed_Count']].sum(axis=1)\n",
    "\n",
    "# Calculate the attendance percentage and missed percentage for each type\n",
    "cls2['Attended_Percentage'] = (cls2['Attended_Count'] / cls2['Total_Sessions']) * 100\n",
    "cls2['Missed_Percentage'] = (cls2['Missed_Count'] / cls2['Total_Sessions']) * 100\n"
   ]
  },
  {
   "cell_type": "code",
   "execution_count": 319,
   "metadata": {},
   "outputs": [],
   "source": [
    "\n",
    "student_data = cls2[cls2['Type'] == 'STUDENT']\n",
    "working_data = cls2[cls2['Type'] == 'WORKING']\n",
    "ignore_data = cls2[cls2['Type'] == 'IGNORE']\n",
    "dropout_data = cls2[cls2['Type'] == 'DROPOUT']\n",
    "\n",
    "# Prepare data for plotting\n",
    "types = ['Student', 'Working', 'IGNORE', 'Dropout']\n",
    "attended_percentage = [\n",
    "    student_data['Attended_Percentage'].mean(),\n",
    "    working_data['Attended_Percentage'].mean(),\n",
    "    ignore_data['Attended_Percentage'].mean(),\n",
    "    dropout_data['Attended_Percentage'].mean()\n",
    "]\n",
    "\n",
    "missed_percentage = [\n",
    "    student_data['Missed_Percentage'].mean(),\n",
    "    working_data['Missed_Percentage'].mean(),\n",
    "    ignore_data['Missed_Percentage'].mean(),\n",
    "    dropout_data['Missed_Percentage'].mean()\n",
    "]"
   ]
  },
  {
   "cell_type": "code",
   "execution_count": 320,
   "metadata": {},
   "outputs": [],
   "source": [
    "# Set the width of each bar\n",
    "bar_width = 0.3\n",
    "\n",
    "# Set the positions of the bars on the x-axis\n",
    "r1 = range(len(types))\n",
    "r2 = [x + bar_width for x in r1]"
   ]
  },
  {
   "cell_type": "code",
   "execution_count": 321,
   "metadata": {},
   "outputs": [
    {
     "data": {
      "image/png": "[encoded data removed]",
      "text/plain": [
       "<Figure size 1080x432 with 1 Axes>"
      ]
     },
     "metadata": {
      "needs_background": "light"
     },
     "output_type": "display_data"
    }
   ],
   "source": [
    "# Create the bar plot\n",
    "plt.figure(figsize=(15, 6))\n",
    "plt.bar(r1, attended_percentage, color='#537188', width=bar_width, edgecolor='white', label='Attended')\n",
    "plt.bar(r2, missed_percentage, color='#CBB279', width=bar_width, edgecolor='white', label='Missed')\n",
    "\n",
    "# Add labels, title, and legend\n",
    "plt.xlabel('Type')\n",
    "plt.ylabel('Percentage')\n",
    "plt.title('Attendance Percentage by Type')\n",
    "plt.xticks([r + bar_width/2 for r in range(len(types))], types)\n",
    "plt.legend()\n",
    "# Show the plot\n",
    "plt.show()"
   ]
  },
  {
   "attachments": {},
   "cell_type": "markdown",
   "metadata": {},
   "source": [
    "Conclusion:\n",
    "1. It's been observed that in both classes dropouts and ignoring people are high.\n",
    "2. Students and working people in both classes are ignoring major classes.\n",
    "3. Need to focus on students and working people to increase high attendence"
   ]
  }
 ],
 "metadata": {
  "kernelspec": {
   "display_name": "base",
   "language": "python",
   "name": "python3"
  },
  "language_info": {
   "codemirror_mode": {
    "name": "ipython",
    "version": 3
   },
   "file_extension": ".py",
   "mimetype": "text/x-python",
   "name": "python",
   "nbconvert_exporter": "python",
   "pygments_lexer": "ipython3",
   "version": "3.9.12"
  },
  "orig_nbformat": 4
 },
 "nbformat": 4,
 "nbformat_minor": 2
}
